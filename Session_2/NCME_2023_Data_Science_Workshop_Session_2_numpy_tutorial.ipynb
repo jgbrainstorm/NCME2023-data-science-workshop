{
 "cells": [
  {
   "cell_type": "markdown",
   "metadata": {},
   "source": [
    "# Session 2: Introduction to Numpy\n",
    "Numpy is a Library in python that specializes in dealing with multidimensional Arrays. The cool features of Numpy are\n",
    "* **Automatic Checking :** Numpy ndArrays automatically check the consistancy of data. For instance, it is not possible to have 1st row with 2 elements and 2nd row with 3 elements\n",
    "* **Contiguous Storage :** Unlike Python Lists, Numpy stores the data in contiguous Memory Locations, leading to lesser Space\n",
    "* **Faster Vector Arithmatics :** Because of contiguous storage, the operations are performed faster as compared to default Python Execution for Lists"
   ]
  },
  {
   "cell_type": "code",
   "execution_count": 1,
   "metadata": {},
   "outputs": [],
   "source": [
    "# Importing Numpy\n",
    "import numpy as np"
   ]
  },
  {
   "cell_type": "markdown",
   "metadata": {},
   "source": [
    "## 1.1 Initialization of 1D array in Python\n",
    "A numpy array comes with 2 important state variables. Just like Python, it automatically detects dtype (if not mentioned)\n",
    "* dtype\n",
    "* shape\n",
    "\n",
    "#### 1.1.1 Initialization from python List\n",
    "numpy.array( list **)**"
   ]
  },
  {
   "cell_type": "code",
   "execution_count": 2,
   "metadata": {},
   "outputs": [
    {
     "name": "stdout",
     "output_type": "stream",
     "text": [
      "1D array in numpy is [1 4 9 3 2]\n",
      "\n",
      "dtype of the numpy array is int64\n",
      "\n",
      "shape of the numpy array is 5\n",
      "\n"
     ]
    }
   ],
   "source": [
    "# Initializing from Python List\n",
    "v = np.array([1,4,9,3,2])\n",
    "print ('1D array in numpy is %s\\n'%v)\n",
    "print ('dtype of the numpy array is %s\\n'%str(v.dtype))\n",
    "print ('shape of the numpy array is %s\\n'%v.shape)"
   ]
  },
  {
   "cell_type": "code",
   "execution_count": 3,
   "metadata": {},
   "outputs": [
    {
     "data": {
      "text/plain": [
       "array([ 2,  8, 18,  6,  4])"
      ]
     },
     "execution_count": 3,
     "metadata": {},
     "output_type": "execute_result"
    }
   ],
   "source": [
    "2 * v"
   ]
  },
  {
   "cell_type": "code",
   "execution_count": 4,
   "metadata": {},
   "outputs": [
    {
     "data": {
      "text/plain": [
       "array([ 1, 16, 81,  9,  4])"
      ]
     },
     "execution_count": 4,
     "metadata": {},
     "output_type": "execute_result"
    }
   ],
   "source": [
    "v ** 2"
   ]
  },
  {
   "cell_type": "code",
   "execution_count": 5,
   "metadata": {},
   "outputs": [
    {
     "data": {
      "text/plain": [
       "array([ 2,  8, 18,  6,  4])"
      ]
     },
     "execution_count": 5,
     "metadata": {},
     "output_type": "execute_result"
    }
   ],
   "source": [
    "v + v"
   ]
  },
  {
   "cell_type": "markdown",
   "metadata": {},
   "source": [
    "#### 1.1.2 Initialization via arange\n",
    "numpy.arange(**\\[**start, **\\]**stop, **\\[**step, **\\]** dtype=None)"
   ]
  },
  {
   "cell_type": "code",
   "execution_count": 6,
   "metadata": {},
   "outputs": [
    {
     "name": "stdout",
     "output_type": "stream",
     "text": [
      "Creating a numpy array via arange (stop=5) : [0 1 2 3 4]\n",
      "\n",
      "Creating a numpy array via arange (start=2,stop=5) : [2 3 4]\n",
      "\n",
      "Creating a numpy array via arange (start=0,stop=-10,step=-2) : [ 0 -2 -4 -6 -8]\n",
      "\n"
     ]
    }
   ],
   "source": [
    "v1 = np.arange(5)\n",
    "print ('Creating a numpy array via arange (stop=5) : %s\\n'%v1)\n",
    "v2 = np.arange(2,5)\n",
    "print ('Creating a numpy array via arange (start=2,stop=5) : %s\\n'%v2)\n",
    "v3 = np.arange(0,-10,-2)\n",
    "print ('Creating a numpy array via arange (start=0,stop=-10,step=-2) : %s\\n'%v3)\n",
    "\n"
   ]
  },
  {
   "cell_type": "markdown",
   "metadata": {},
   "source": [
    "## 1.2. Initialization of 2D array in Python\n",
    "When we talk about 2D array, it is important to note that Numpy stores Matrix is ***Row Major Format***. Row major format means that the the complete row will be stored first and then the next row will be stored and so on. You can choose to store a matrix in colum major format by mentioning ***order='F'*** on ndarray creation, which means ***Column Major Format***  or *Fortran Style Format*. \n",
    "\n",
    "![Interpretation of row and column in Numpy](img/1.2.1-numpy-matrix-01.jpg)"
   ]
  },
  {
   "cell_type": "markdown",
   "metadata": {},
   "source": [
    "#### 1.2.1 Initialization from List of List\n",
    "numpy.array **(** ***object***, dtype=None **)**\n",
    "\n",
    "Here the matrix that we have taken is \n",
    "$$mat = \\begin{bmatrix}1 & 2 & 3 \\\\ 4 & 5 & 6 \\end{bmatrix}$$"
   ]
  },
  {
   "cell_type": "code",
   "execution_count": 7,
   "metadata": {},
   "outputs": [
    {
     "name": "stdout",
     "output_type": "stream",
     "text": [
      "numpy matrix is \n",
      "[[1 2 3]\n",
      " [4 5 6]]\n",
      "\n",
      "(2, 3)\n",
      "Flattened version of numpy matrix is [1 2 3 4 5 6]\n",
      "\n"
     ]
    }
   ],
   "source": [
    "pymat = [[1,2,3],[4,5,6]]\n",
    "m = np.array(pymat)\n",
    "print ('numpy matrix is \\n%s\\n'% m)\n",
    "print(m.shape)\n",
    "print ('Flattened version of numpy matrix is %s\\n'% m.flatten())\n",
    "# By flatten the matrix becomes row major 1D vector (This is the way in which a matrix is stored in memory). \n"
   ]
  },
  {
   "cell_type": "markdown",
   "metadata": {},
   "source": [
    "#### 1.2.2 Initialization with zero/ones\n",
    "numpy.**zeros**(*shape*, dtype=float)  \n",
    "numpy.**ones**(*shape*, dtype=float)"
   ]
  },
  {
   "cell_type": "code",
   "execution_count": 8,
   "metadata": {},
   "outputs": [
    {
     "name": "stdout",
     "output_type": "stream",
     "text": [
      "[[1. 1. 1. 1. 1.]\n",
      " [1. 1. 1. 1. 1.]\n",
      " [1. 1. 1. 1. 1.]]\n"
     ]
    }
   ],
   "source": [
    "m = np.ones((3, 5))\n",
    "print(m)"
   ]
  },
  {
   "cell_type": "markdown",
   "metadata": {},
   "source": [
    "#### 1.2.3 Initialization with Random Values\n",
    "**1.2.3.1** numpy.**random.random**(*size=None*,)  \n",
    "**1.2.3.2** numpy.**random.randint**(low, high, *size=None*, dtype='I') : The value of matrix lies between low and high-1  \n",
    "**1.2.3.3** numpy.**random.randn**($d_0,d_1,\\cdots,d_n$)\n"
   ]
  },
  {
   "cell_type": "code",
   "execution_count": 9,
   "metadata": {},
   "outputs": [
    {
     "name": "stdout",
     "output_type": "stream",
     "text": [
      "matrix generated from numpy.random.random is \n",
      "[-0.5054396  -0.50917355  0.30081848  0.83861056 -0.94947214 -0.80000383\n",
      "  0.60671362  0.81306813  0.88005219  0.61808371]\n",
      "\n",
      "matrix generated from numpy.random.random is \n",
      "[[3 3 0 0]\n",
      " [1 3 2 0]\n",
      " [2 3 1 2]]\n",
      "\n",
      "matrix generated from numpy.random.randn is \n",
      "[[ 0.19880377  0.51743916 -0.1327839   0.20287549]\n",
      " [-1.72628693 -0.98411013 -0.37562955  0.59505762]\n",
      " [-1.04126033  0.37543951 -0.17968449  0.23112375]]\n",
      "\n"
     ]
    }
   ],
   "source": [
    "#Using numpy.random.random\n",
    "mat1 = 2 * np.random.random(size=(10,)) - 1\n",
    "print ('matrix generated from numpy.random.random is \\n%s\\n'%mat1)\n",
    "\n",
    "mat2 = np.random.randint(low=0,high=4,size=(3,4))\n",
    "print ('matrix generated from numpy.random.random is \\n%s\\n'%mat2)\n",
    "\n",
    "# Normally distributed random values.\n",
    "mat3 = np.random.randn(3,4)\n",
    "print ('matrix generated from numpy.random.randn is \\n%s\\n'%mat3)\n"
   ]
  },
  {
   "cell_type": "markdown",
   "metadata": {},
   "source": [
    "## 1.3. Slicing and Indexing in Numpy\n",
    "Just like python, numpy also has 0 indexing. Let us see some of the commonly used slicing techniques .  \n",
    "* Generic Slicing Operation : \\[start\\]:\\[end\\]:\\[jump\\]\n",
    "* Only jump    **::2**\n",
    "* Only end    **:5**\n",
    "* Start and jump **2::-1**\n",
    "* End and Jump **:5:2**\n",
    "* Start, end and jump **2:7:3**\n",
    "\n",
    "\n",
    "#### 1.3.1 Remove n elements\n",
    "vec\\[:*-n*\\]"
   ]
  },
  {
   "cell_type": "code",
   "execution_count": 10,
   "metadata": {},
   "outputs": [
    {
     "name": "stdout",
     "output_type": "stream",
     "text": [
      "[[0.07673214 0.62896043 0.22983091 0.11872799 0.11532424]\n",
      " [0.32475446 0.37080135 0.08491388 0.16044597 0.83862348]\n",
      " [0.74776437 0.3420674  0.8514078  0.70779595 0.7399588 ]\n",
      " [0.70067531 0.83096408 0.54603127 0.10141353 0.65656997]\n",
      " [0.22982118 0.17563701 0.23627313 0.6506596  0.84490739]\n",
      " [0.52309644 0.12551719 0.2226959  0.87677961 0.50539752]\n",
      " [0.71675193 0.15270225 0.5268036  0.05288474 0.06458528]\n",
      " [0.51122842 0.15983384 0.12928542 0.60575352 0.12641562]\n",
      " [0.39096458 0.60764623 0.91108212 0.26313802 0.69559797]\n",
      " [0.66720687 0.34934358 0.63880365 0.00747781 0.71857182]]\n"
     ]
    }
   ],
   "source": [
    "a = np.random.random((10, 5))\n",
    "print(a)"
   ]
  },
  {
   "cell_type": "code",
   "execution_count": 11,
   "metadata": {},
   "outputs": [
    {
     "data": {
      "text/plain": [
       "array([[0.22983091, 0.11872799],\n",
       "       [0.08491388, 0.16044597],\n",
       "       [0.8514078 , 0.70779595],\n",
       "       [0.54603127, 0.10141353],\n",
       "       [0.23627313, 0.6506596 ],\n",
       "       [0.2226959 , 0.87677961],\n",
       "       [0.5268036 , 0.05288474],\n",
       "       [0.12928542, 0.60575352],\n",
       "       [0.91108212, 0.26313802],\n",
       "       [0.63880365, 0.00747781]])"
      ]
     },
     "execution_count": 11,
     "metadata": {},
     "output_type": "execute_result"
    }
   ],
   "source": [
    "a[:, 2:4:]"
   ]
  },
  {
   "cell_type": "code",
   "execution_count": 12,
   "metadata": {},
   "outputs": [
    {
     "name": "stdout",
     "output_type": "stream",
     "text": [
      "Result of removing last 3 elements from range(10) : \n",
      "[0 1 2 3 4 5 6]\n",
      "\n"
     ]
    }
   ],
   "source": [
    "vec = np.arange(10)\n",
    "vec1 = vec[:-3]\n",
    "print ('Result of removing last 3 elements from range(10) : \\n%s\\n'%vec1)"
   ]
  },
  {
   "cell_type": "markdown",
   "metadata": {},
   "source": [
    "#### 1.3.2 Access elements at even indices in a 1D array\n",
    "vec[::2]"
   ]
  },
  {
   "cell_type": "code",
   "execution_count": 13,
   "metadata": {},
   "outputs": [
    {
     "name": "stdout",
     "output_type": "stream",
     "text": [
      "Original array is [ 0  3  6  9 12 15 18]\n",
      "\n",
      "Elements at even indices are [ 0  6 12 18]\n",
      "\n"
     ]
    }
   ],
   "source": [
    "\n",
    "vec1 = np.arange(0,20,3)\n",
    "print ('Original array is %s\\n'%vec1)\n",
    "vec2 = vec1[::2]\n",
    "print ('Elements at even indices are %s\\n'%vec2)\n"
   ]
  },
  {
   "cell_type": "markdown",
   "metadata": {},
   "source": [
    "#### 1.3.3 Access elements at indices in reverse order\n",
    "vec[::-1]"
   ]
  },
  {
   "cell_type": "code",
   "execution_count": 14,
   "metadata": {},
   "outputs": [
    {
     "name": "stdout",
     "output_type": "stream",
     "text": [
      "Original array is [ 0  3  6  9 12 15 18]\n",
      "\n",
      "Elements for indices in reverse is [18 15 12  9  6  3  0]\n",
      "\n"
     ]
    }
   ],
   "source": [
    "vec1 = np.arange(0,20,3)\n",
    "print ('Original array is %s\\n'%vec1)\n",
    "vec2 = vec1[::-1]\n",
    "print ('Elements for indices in reverse is %s\\n'%vec2)"
   ]
  },
  {
   "cell_type": "markdown",
   "metadata": {},
   "source": [
    "#### 1.3.4 Access elements present for a range of indices\n",
    "vec[a:b]"
   ]
  },
  {
   "cell_type": "code",
   "execution_count": 15,
   "metadata": {},
   "outputs": [
    {
     "name": "stdout",
     "output_type": "stream",
     "text": [
      "Original array is [ 0  3  6  9 12 15 18]\n",
      "\n",
      "Elements for indices 2:5 is [ 6  9 12]\n",
      "\n"
     ]
    }
   ],
   "source": [
    "vec1 = np.arange(0,20,3)\n",
    "print ('Original array is %s\\n'%vec1)\n",
    "vec2 = vec1[2:5]\n",
    "print ('Elements for indices 2:5 is %s\\n'%vec2)"
   ]
  },
  {
   "cell_type": "markdown",
   "metadata": {},
   "source": [
    "#### 1.3.5 Access a particular set of index given by a list\n",
    "vec[idxlist]"
   ]
  },
  {
   "cell_type": "code",
   "execution_count": 16,
   "metadata": {},
   "outputs": [
    {
     "name": "stdout",
     "output_type": "stream",
     "text": [
      "Original array is [ 0  3  6  9 12 15 18]\n",
      "\n",
      "Subarray constructed by indices [0, 1, 5] is [ 0  3 15]\n",
      "\n"
     ]
    }
   ],
   "source": [
    "idx=[0,1,5]\n",
    "vec1 = np.arange(0,20,3)\n",
    "print ('Original array is %s\\n'%vec1)\n",
    "vec2 = vec1[idx]\n",
    "print ('Subarray constructed by indices %s is %s\\n'%(idx,vec2))"
   ]
  },
  {
   "cell_type": "markdown",
   "metadata": {},
   "source": [
    "#### 1.3.6 Creating a submatrix"
   ]
  },
  {
   "cell_type": "code",
   "execution_count": 17,
   "metadata": {},
   "outputs": [
    {
     "name": "stdout",
     "output_type": "stream",
     "text": [
      "Original Matrix is \n",
      "[[0 1 5 5 5]\n",
      " [2 3 4 3 0]\n",
      " [1 1 2 2 0]]\n",
      "\n",
      "Sub Matrix with first 2 rows and last 2 columns is \n",
      "[[5 5]\n",
      " [3 0]]\n",
      "\n",
      "After flipping the columns of the matrix, it looks : \n",
      "[[5 5 1]\n",
      " [3 4 3]\n",
      " [2 2 1]]\n",
      "\n"
     ]
    }
   ],
   "source": [
    "mat = np.random.randint(0,6,(3,5))\n",
    "# Create a submatrix with first 2 rows and last 2 columns\n",
    "submat1 = mat[0:2,-2:]\n",
    "print ('Original Matrix is \\n%s\\n'%mat)\n",
    "print ('Sub Matrix with first 2 rows and last 2 columns is \\n%s\\n'%submat1)\n",
    "submat2 = mat[:,3:0:-1]\n",
    "print ('After flipping the columns of the matrix, it looks : \\n%s\\n'%submat2)"
   ]
  },
  {
   "cell_type": "markdown",
   "metadata": {},
   "source": [
    "#### 1.3.7 Horizontal Matrix splitting\n",
    "numpy.**hsplit**(ary, *indices_or_sections*)  \n",
    "  \n",
    "hsplit basically splits a matrix across the horizontal plane based on the indices. Do note that the ***number of rows*** always remains ***constant*** in each section after the horizontal splitting.\n",
    "\n",
    "![](img/1.3.7-hsplit-01.jpg)"
   ]
  },
  {
   "cell_type": "code",
   "execution_count": 18,
   "metadata": {},
   "outputs": [
    {
     "name": "stdout",
     "output_type": "stream",
     "text": [
      "Original matrix of shape (3, 7), is \n",
      "[[2 4 5 2 2 2 2]\n",
      " [2 5 2 5 0 5 2]\n",
      " [0 2 5 5 5 2 3]]\n",
      "\n",
      "First split of shape (3, 4), is \n",
      "[[2 4 5 2]\n",
      " [2 5 2 5]\n",
      " [0 2 5 5]]\n",
      "\n",
      "Second split of shape (3, 2), is \n",
      "[[2 2]\n",
      " [0 5]\n",
      " [5 2]]\n",
      "\n",
      "Third split of shape (3, 1), is \n",
      "[[2]\n",
      " [2]\n",
      " [3]]\n",
      "\n"
     ]
    }
   ],
   "source": [
    "mat = np.random.randint(0,6,(3,7))\n",
    "sp1,sp2,sp3 = np.hsplit(mat,[4,6])\n",
    "print ('Original matrix of shape %s, is \\n%s\\n'%(mat.shape,mat))\n",
    "print ('First split of shape %s, is \\n%s\\n'%(sp1.shape,sp1))\n",
    "print ('Second split of shape %s, is \\n%s\\n'%(sp2.shape,sp2))\n",
    "print ('Third split of shape %s, is \\n%s\\n'%(sp3.shape,sp3))"
   ]
  },
  {
   "cell_type": "markdown",
   "metadata": {},
   "source": [
    "#### 1.3.8 Vertical Matrix Splitting\n",
    "numpy.**vsplit**(ary, *indices_or_sections*)  \n",
    "  \n",
    "vsplit is yet another operation which splits the matrix across the vertical plane based on the ***'rowwise split-index array'***. The ***number of columns*** always remain ***constant*** in each split."
   ]
  },
  {
   "cell_type": "code",
   "execution_count": 19,
   "metadata": {},
   "outputs": [
    {
     "name": "stdout",
     "output_type": "stream",
     "text": [
      "Original matrix of shape (3, 7), is \n",
      "[[5 1 0 5 0 5 1]\n",
      " [1 5 1 2 5 5 1]\n",
      " [4 4 2 1 3 0 5]]\n",
      "\n",
      "First split of shape (1, 7), is \n",
      "[[5 1 0 5 0 5 1]]\n",
      "\n",
      "Second split of shape (2, 7), is \n",
      "[[1 5 1 2 5 5 1]\n",
      " [4 4 2 1 3 0 5]]\n",
      "\n"
     ]
    }
   ],
   "source": [
    "mat = np.random.randint(0,6,(3,7))\n",
    "sp1,sp2 = np.vsplit(mat,[1])\n",
    "print ('Original matrix of shape %s, is \\n%s\\n'%(mat.shape,mat))\n",
    "print ('First split of shape %s, is \\n%s\\n'%(sp1.shape,sp1))\n",
    "print ('Second split of shape %s, is \\n%s\\n'%(sp2.shape,sp2))"
   ]
  },
  {
   "cell_type": "markdown",
   "metadata": {},
   "source": [
    "> ### *Class Assignment for 1.1 to 1.3*\n",
    ">\n",
    "> 1. Create a matrix of size (2,3) with random binary values\n",
    "> 2. Find the sum of all 2x2 blocks (overlapping) for a random integer matrix of size (3,5) "
   ]
  },
  {
   "cell_type": "markdown",
   "metadata": {},
   "source": [
    "## 1.4. Understanding - Pass By Reference \n",
    "Just like python lists, Numpy also exhibits default pass-by-reference behavior\n",
    "![Pass by reference Illustration](img/1.4-pass-by-reference-01.jpg)"
   ]
  },
  {
   "cell_type": "code",
   "execution_count": 20,
   "metadata": {},
   "outputs": [
    {
     "name": "stdout",
     "output_type": "stream",
     "text": [
      "Memory Location of mat1[0] is : 140275792728880\n",
      "\n",
      "Memory Location of mat1[1] is : 140275792728904\n",
      "\n",
      "Difference in Memory Location for 3 elements  is : 24 bytes\n",
      "\n",
      "Memory jump = 8 bytes\n"
     ]
    }
   ],
   "source": [
    "mat1 = np.random.random((2,3))\n",
    "pt1 = mat1[0].__array_interface__['data'][0]\n",
    "print ('Memory Location of mat1[0] is : %s\\n'%pt1)\n",
    "pt2 = mat1[1].__array_interface__['data'][0]\n",
    "print ('Memory Location of mat1[1] is : %s\\n'%pt2)\n",
    "print ('Difference in Memory Location for 3 elements  is : %s bytes\\n'%(pt2-pt1))\n",
    "print ('Memory jump = 8 bytes')\n"
   ]
  },
  {
   "cell_type": "markdown",
   "metadata": {},
   "source": [
    "#### 1.4.1 Experiment : Change the value of array by Reference"
   ]
  },
  {
   "cell_type": "code",
   "execution_count": 21,
   "metadata": {},
   "outputs": [
    {
     "name": "stdout",
     "output_type": "stream",
     "text": [
      "Value of v, after v1 is modified is [10  2  3]\n",
      "\n",
      "Value of v after func(v) is modified is [10  2  3]\n",
      "\n",
      "Value of v after v.copy() is modified is [1 2 3]\n",
      "\n"
     ]
    }
   ],
   "source": [
    "def identity(elem):\n",
    "    return elem\n",
    "v = np.array([1,2,3])\n",
    "v1 = v # Copy by reference\n",
    "v1[0]=10\n",
    "print ('Value of v, after v1 is modified is %s\\n'%v)\n",
    "# Pass by Function \n",
    "v = np.array([1,2,3])\n",
    "v1 = identity(v) # Copy by reference\n",
    "v1[0]=10\n",
    "print ('Value of v after func(v) is modified is %s\\n'%v)\n",
    "v = np.array([1,2,3])\n",
    "v1 = v.copy() # Copy by reference\n",
    "v1[0]=10\n",
    "print ('Value of v after v.copy() is modified is %s\\n'%v)"
   ]
  },
  {
   "cell_type": "markdown",
   "metadata": {},
   "source": [
    "#### 1.4.2 Experiment : Change the value of matrices by Reference"
   ]
  },
  {
   "cell_type": "code",
   "execution_count": 22,
   "metadata": {},
   "outputs": [
    {
     "name": "stdout",
     "output_type": "stream",
     "text": [
      "Original Matrix is \n",
      "[[1 2 3]\n",
      " [4 5 6]\n",
      " [7 8 9]]\n",
      "\n",
      " Matrix with 10 added to even indices is \n",
      "[[11 13]\n",
      " [17 19]]\n",
      "\n"
     ]
    }
   ],
   "source": [
    "mat = np.array([[1,2,3],[4,5,6],[7,8,9]])\n",
    "print ('Original Matrix is \\n%s\\n'%mat)\n",
    "\n",
    "#1 Add 10 to all the even indexes in matrix\n",
    "mat = np.array([[1,2,3],[4,5,6],[7,8,9]])\n",
    "mat1 = mat[::2,::2]\n",
    "mat1+=10\n",
    "print (' Matrix with 10 added to even indices is \\n%s\\n'%mat1)\n",
    "# Changes in mat1 are reflected in mat. This happens because the default assignment in numpy is 'pass by reference'"
   ]
  },
  {
   "cell_type": "markdown",
   "metadata": {},
   "source": [
    "> **Note :** mat1+=10 is different from mat1=mat1+10, as a new space is allocated for mat1 in the latter case."
   ]
  },
  {
   "cell_type": "markdown",
   "metadata": {},
   "source": [
    "## 1.5 Broadcast Operation in Numpy\n",
    "Broadcast Operation is like a razor-sharp knife, to be used with great care. It is a way to ***broadcast*** data of lower or same  dimension onto another ndarray. It is similar to ***map*** operation in python, scala, hadoop.  Broadcast rules are not limited to 2D array. There are extremely specific set of rules for nd-array broadcasting. You can visit ***[numpy documentation on broadcasting](https://docs.scipy.org/doc/numpy-1.13.0/user/basics.broadcasting.html)*** to get the complete picture. However, we will be restricting the discussion to only 2D-matrices.\n",
    "\n",
    "![Visualization of broadcast Operation for Matrix](img/1.5-broadcast-01.jpg)"
   ]
  },
  {
   "cell_type": "code",
   "execution_count": 23,
   "metadata": {},
   "outputs": [
    {
     "name": "stdout",
     "output_type": "stream",
     "text": [
      "mat is \n",
      "[[5 1 2 0 3]\n",
      " [1 3 0 3 2]\n",
      " [4 4 4 4 1]]\n",
      "\n",
      "v is \n",
      "[10 20 30 40 50]\n",
      "\n",
      "mat+1 is \n",
      "[[6 2 3 1 4]\n",
      " [2 4 1 4 3]\n",
      " [5 5 5 5 2]]\n",
      "\n",
      "mat+v is \n",
      "[[15 21 32 40 53]\n",
      " [11 23 30 43 52]\n",
      " [14 24 34 44 51]]\n",
      "\n",
      "mat*v is \n",
      "[[ 50  20  60   0 150]\n",
      " [ 10  60   0 120 100]\n",
      " [ 40  80 120 160  50]]\n",
      "\n",
      "mat+mat is \n",
      "[[10  2  4  0  6]\n",
      " [ 2  6  0  6  4]\n",
      " [ 8  8  8  8  2]]\n",
      "\n",
      "mat*mat is \n",
      "[[25  1  4  0  9]\n",
      " [ 1  9  0  9  4]\n",
      " [16 16 16 16  1]]\n",
      "\n"
     ]
    }
   ],
   "source": [
    "mat = np.random.randint(0,6,(3,5))\n",
    "print ('mat is \\n%s\\n'%mat)\n",
    "v = np.array([10,20,30,40,50])\n",
    "print ('v is \\n%s\\n'%v)\n",
    "print ('mat+1 is \\n%s\\n'%(mat+1)) # Similar behaviour in case of np.array([1])\n",
    "print ('mat+v is \\n%s\\n'%(mat+v))\n",
    "print ('mat*v is \\n%s\\n'%(mat*v))\n",
    "print ('mat+mat is \\n%s\\n'%(mat+mat))\n",
    "print ('mat*mat is \\n%s\\n'%(mat*mat))\n"
   ]
  },
  {
   "cell_type": "markdown",
   "metadata": {},
   "source": [
    "## 1.6 Matrix Operations \n",
    "There are two major matix Operations which are important for us.\n",
    "1. Inner Product\n",
    "  * Vector Vector\n",
    "  * Matrix Vector \n",
    "  * Matrix Matrix\n",
    "2. Outer product\n",
    "\n",
    "#### 1.6.1 Inner Product\n",
    "In terms of Inner Product or Dot product, <v,w> will be be nothing but sum of element wise product.\n",
    "$$<v,w> = \\sum v_i*w_i = \\begin{bmatrix} v_0 & v_1 & \\cdots & v_n \\end{bmatrix}\\begin{bmatrix} w_0 \\\\ w_1 \\\\ \\cdots \\\\ w_n \\end{bmatrix}$$\n",
    "So, the dot product between vector $v=[1,2,3]$ and  $w=[2,4,6]$ will be \n",
    "$$\\begin{align}1*2 + 2*4 + 3*6 \\\\ 2+8+18 \\\\ 28\\end{align}$$  \n",
    "We will be covering matrix matrix multiplication in much depth in next-to-next chapter, but you can take it for granted as of now.\n",
    "#### 1.6.2 Outer Product\n",
    "The **outer product** on other end is \n",
    "$$\\begin{bmatrix} v_0 \\\\ v_1 \\\\ \\cdots \\\\ v_n \\end{bmatrix}\\begin{bmatrix} w_0 & w_1 & \\cdots & w_n \\end{bmatrix} = \\begin{bmatrix}v_0w_0 & \\cdots & v_0w_j & \\cdots & v_0w_n \\\\ \\vdots && \\vdots && \\vdots \\\\ v_iw_0 & \\cdots & v_iw_j & \\cdots & v_iw_n \\\\ \\vdots && \\vdots && \\vdots \\\\ v_nw_0 & \\cdots & v_nw_j & \\cdots & v_nw_n    \\end{bmatrix} $$"
   ]
  },
  {
   "cell_type": "code",
   "execution_count": 24,
   "metadata": {},
   "outputs": [
    {
     "name": "stdout",
     "output_type": "stream",
     "text": [
      "Vector v1 is [1 2 3]\n",
      "\n",
      "Vector v2 is [2 4 6]\n",
      "\n",
      "Vector Vector dot product is <v1,v2> is 28\n",
      "\n",
      "---------------\n",
      "\n",
      "Matrix is\n",
      "[[0 1 2]\n",
      " [3 4 5]\n",
      " [6 7 8]]\n",
      "\n",
      "Vector v2 is\n",
      "[1 2 3]\n",
      "\n",
      "Matrix Vector product is <mat,vec1> is \n",
      "[ 8 26 44]\n",
      "\n",
      "Matrix Matrix multiplication is <mat,mat> is \n",
      "[[ 15  18  21]\n",
      " [ 42  54  66]\n",
      " [ 69  90 111]]\n",
      "\n",
      "---------------\n",
      "\n",
      "Vector v1 is [1 2 3]\n",
      "\n",
      "Vector v2 is [2 4 6]\n",
      "\n",
      "Vector Vector outer product is <v1,v2> is \n",
      "[[ 2  4  6]\n",
      " [ 4  8 12]\n",
      " [ 6 12 18]]\n",
      "\n"
     ]
    }
   ],
   "source": [
    "mat = np.arange(9).reshape(3,3)\n",
    "vec1 = np.array([1,2,3])\n",
    "vec2 = np.array([2,4,6])\n",
    "print ('Vector v1 is %s\\n'%vec1)\n",
    "print ('Vector v2 is %s\\n'%vec2)\n",
    "print ('Vector Vector dot product is <v1,v2> is %s\\n'%np.dot(vec1,vec2))\n",
    "print ('---------------\\n')\n",
    "\n",
    "print ('Matrix is\\n%s\\n'%mat)\n",
    "print ('Vector v2 is\\n%s\\n'%vec1)\n",
    "\n",
    "print ('Matrix Vector product is <mat,vec1> is \\n%s\\n'%np.dot(mat,vec1))\n",
    "print ('Matrix Matrix multiplication is <mat,mat> is \\n%s\\n'%np.dot(mat,mat))\n",
    "print ('---------------\\n')\n",
    "\n",
    "print ('Vector v1 is %s\\n'%vec1)\n",
    "print ('Vector v2 is %s\\n'%vec2)\n",
    "print ('Vector Vector outer product is <v1,v2> is \\n%s\\n'%np.outer(vec1,vec2))\n"
   ]
  },
  {
   "cell_type": "markdown",
   "metadata": {},
   "source": [
    "## 1.7 Statistical Functions\n",
    "1. **np.mean**(data,axis=0)\n",
    "2. **np.var**(data,axis=0)\n",
    "3. **np.sum**(data,axis=0)\n",
    "4. **np.max**(data,axis=0)\n",
    "5. **np.min**(data,axis=0)\n",
    "6. **np.percentile**(data, percentage,axis=0)"
   ]
  },
  {
   "cell_type": "code",
   "execution_count": 25,
   "metadata": {},
   "outputs": [
    {
     "name": "stdout",
     "output_type": "stream",
     "text": [
      "Original matrix is \n",
      "[[0 1 2]\n",
      " [3 4 5]\n",
      " [6 7 8]]\n",
      "\n",
      "Overall mean of matrix is \n",
      "4.0\n",
      "\n",
      "Row mean of matrix is \n",
      "[3. 4. 5.]\n",
      "\n",
      "Column mean of matrix is \n",
      "[1. 4. 7.]\n",
      "\n",
      "---------------------------\n",
      "\n",
      "Overall varience of matrix is 6.666666666666667\n",
      "\n",
      "Overall sum of matrix is 36\n",
      "\n",
      "Overall min of matrix is 0\n",
      "\n",
      "Overall max of matrix is 8\n",
      "\n",
      "-------------------------------------\n",
      "\n",
      "Marks = [ 30  31  32  40  90  95  97  98  99 100]\n",
      "\n",
      "Overall 30 percent quantile of marks is 37.599999999999994\n",
      "\n"
     ]
    }
   ],
   "source": [
    "\n",
    "mat = np.arange(9).reshape((3,3))\n",
    "print ('Original matrix is \\n%s\\n'%mat)\n",
    "print ('Overall mean of matrix is \\n%s\\n'%np.mean(mat))\n",
    "print ('Row mean of matrix is \\n%s\\n'%np.mean(mat, axis=0))\n",
    "print ('Column mean of matrix is \\n%s\\n'%np.mean(mat, axis=1))\n",
    "print ('---------------------------\\n')\n",
    "print ('Overall varience of matrix is %s\\n'%np.var(mat))\n",
    "print ('Overall sum of matrix is %s\\n'%np.sum(mat))\n",
    "print ('Overall min of matrix is %s\\n'%np.min(mat))\n",
    "print ('Overall max of matrix is %s\\n'%np.max(mat))\n",
    "\n",
    "print ('-------------------------------------\\n')\n",
    "marks = np.array([30,31,32,40,90,95,97,98,99,100])\n",
    "print ('Marks = %s\\n'%marks)\n",
    "print ('Overall 30 percent quantile of marks is %s\\n'%(str(np.percentile(marks,30))))\n"
   ]
  },
  {
   "cell_type": "markdown",
   "metadata": {},
   "source": [
    "## 1.8 Miscellenous Functions\n",
    "In this section, we will be discussing some important miscellenous Functions which come in handy for matrix manipulation.\n",
    "#### 1.8.1 squeeze\n",
    "numpy.**squeeze**(a,axis=None)  \n",
    "This function tries to reduce the excess dimensions which have only 1 element. If we print the shape of the ndary, these excess dimension will have a 1 in that particular dimension's index. For example, a nd-matrix with shape (1,2,3,1), has $0^{th}$ and $3^{rd}$ dimension as excess."
   ]
  },
  {
   "cell_type": "code",
   "execution_count": 26,
   "metadata": {},
   "outputs": [
    {
     "name": "stdout",
     "output_type": "stream",
     "text": [
      "Original Shape of ndmat is (1, 2, 3, 1)\n",
      "\n",
      "Shape of np.squeeze(ndmat) is (2, 3)\n",
      "\n",
      "Shape of np.squeeze(ndmat,axis=3) is (1, 2, 3)\n",
      "\n"
     ]
    }
   ],
   "source": [
    "ndmat = np.zeros(shape=(1,2,3,1))\n",
    "print ('Original Shape of ndmat is %s\\n'%str(ndmat.shape))\n",
    "ndmat1 = np.squeeze(ndmat)\n",
    "print ('Shape of np.squeeze(ndmat) is %s\\n'%str(ndmat1.shape))\n",
    "ndmat2 = np.squeeze(ndmat,axis=3)\n",
    "print ('Shape of np.squeeze(ndmat,axis=3) is %s\\n'%str(ndmat2.shape))\n",
    "\n"
   ]
  },
  {
   "cell_type": "markdown",
   "metadata": {},
   "source": [
    "#### 1.8.2 transpose\n",
    "numpy.**transpose**(a, *axes=None*)  \n",
    "This function reverses the axes for 2D array.  \n",
    "For multidimensional array, it permutes the matrix according to the axis argument"
   ]
  },
  {
   "cell_type": "code",
   "execution_count": 27,
   "metadata": {},
   "outputs": [
    {
     "name": "stdout",
     "output_type": "stream",
     "text": [
      "Original Shape of 2D matrix is (2, 3)\n",
      "\n",
      "Shape of np.transpose(mat) is (3, 2)\n",
      "\n",
      "np.transpose is by yet again assignment by reference, as changes in transpose reflects in the original matrix\n",
      "\n",
      "---------------------------------\n",
      "\n",
      "Original Shape of nDimensional matrix is (2, 3, 4)\n",
      "\n",
      "Shape of np.transpose(ndmat) is (4, 3, 2)\n",
      "\n",
      "Shape of np.transpose(ndmat, axes=[0,2,1]) is (2, 4, 3)\n",
      "\n"
     ]
    }
   ],
   "source": [
    "mat = np.zeros(shape=(2,3))\n",
    "print ('Original Shape of 2D matrix is %s\\n'%str(mat.shape))\n",
    "mat_transpose = np.transpose(mat)\n",
    "print ('Shape of np.transpose(mat) is %s\\n'%str(mat_transpose.shape))\n",
    "mat_transpose[1,0] = 1\n",
    "print ('np.transpose is by yet again assignment by reference, as changes in transpose reflects in the original matrix\\n')\n",
    "print ('---------------------------------\\n')\n",
    "# NDimensional matrix\n",
    "ndmat = np.zeros(shape=(2,3,4))\n",
    "print ('Original Shape of nDimensional matrix is %s\\n'%str(ndmat.shape))\n",
    "ndmat_transpose = np.transpose(ndmat)\n",
    "print ('Shape of np.transpose(ndmat) is %s\\n'%str(ndmat_transpose.shape))\n",
    "ndmat_special_transpose = np.transpose(ndmat, axes = [0,2,1])\n",
    "print ('Shape of np.transpose(ndmat, axes=[0,2,1]) is %s\\n'%str(ndmat_special_transpose.shape))\n"
   ]
  },
  {
   "cell_type": "markdown",
   "metadata": {},
   "source": [
    "## Some Histograms"
   ]
  },
  {
   "cell_type": "code",
   "execution_count": 28,
   "metadata": {},
   "outputs": [
    {
     "name": "stdout",
     "output_type": "stream",
     "text": [
      "[[1.41314671e-01 5.25869088e-01 1.16311245e-01 1.02061742e-01\n",
      "  8.18902853e-01]\n",
      " [9.77168294e-01 1.37779343e-01 4.81773877e-01 4.96154694e-01\n",
      "  6.73416543e-01]\n",
      " [1.70737221e-01 2.63648177e-01 8.67853038e-01 6.16504475e-01\n",
      "  9.82976114e-01]\n",
      " [3.32737058e-01 1.28411203e-01 4.22158302e-01 7.24936966e-01\n",
      "  7.35236870e-01]\n",
      " [9.57335184e-01 3.18558728e-01 7.85435220e-01 1.68756344e-01\n",
      "  1.29588100e-01]\n",
      " [2.46681017e-01 4.37885058e-01 3.42142418e-01 9.41604288e-01\n",
      "  3.85874561e-01]\n",
      " [7.83488264e-01 5.46245430e-01 8.69758620e-01 1.58314187e-01\n",
      "  1.76285675e-01]\n",
      " [4.20110884e-01 9.15726825e-01 1.50281670e-01 1.54339049e-01\n",
      "  7.49146810e-01]\n",
      " [3.33752346e-01 8.65302019e-01 5.15614730e-04 2.42589610e-01\n",
      "  2.04214539e-01]\n",
      " [7.26368431e-01 4.97154587e-01 1.92281055e-01 6.45350502e-01\n",
      "  8.49726799e-01]]\n"
     ]
    }
   ],
   "source": [
    "a = np.random.random((10, 5))\n",
    "print(a)"
   ]
  },
  {
   "cell_type": "code",
   "execution_count": 29,
   "metadata": {},
   "outputs": [
    {
     "name": "stdout",
     "output_type": "stream",
     "text": [
      "[[0.42931138 0.83010694 0.38289172 0.08769553 0.60809579]\n",
      " [0.24171433 0.53345302 0.24327162 0.18289835 0.20316549]\n",
      " [0.24257229 0.31539343 0.81776137 0.72861493 0.67928427]\n",
      " [0.34867463 0.45610848 0.2389257  0.30185626 0.11600505]\n",
      " [0.96844296 0.70065979 0.2414425  0.56354864 0.64530761]\n",
      " [0.80679707 0.28743633 0.04637174 0.98606881 0.89281743]\n",
      " [0.66484742 0.75835352 0.10423398 0.06713013 0.84129518]\n",
      " [0.96023313 0.94595091 0.13870434 0.73889947 0.99097106]\n",
      " [0.47462753 0.63711214 0.41616679 0.82876109 0.99861058]\n",
      " [0.24014488 0.75327919 0.79949244 0.18070723 0.78891245]]\n"
     ]
    },
    {
     "data": {
      "text/plain": [
       "array([[3.29165913e-01, 6.33495594e-01, 3.03770592e-01, 1.16381927e+00,\n",
       "        1.34666753e+00],\n",
       "       [4.04265776e+00, 2.58278306e-01, 1.98039494e+00, 2.71273463e+00,\n",
       "        3.31462075e+00],\n",
       "       [7.03861201e-01, 8.35934268e-01, 1.06125463e+00, 8.46132092e-01,\n",
       "        1.44707623e+00],\n",
       "       [9.54290982e-01, 2.81536540e-01, 1.76690201e+00, 2.40159659e+00,\n",
       "        6.33797310e+00],\n",
       "       [9.88530271e-01, 4.54655360e-01, 3.25309428e+00, 2.99453024e-01,\n",
       "        2.00816012e-01],\n",
       "       [3.05753488e-01, 1.52341586e+00, 7.37825334e+00, 9.54907286e-01,\n",
       "        4.32198732e-01],\n",
       "       [1.17844823e+00, 7.20304470e-01, 8.34429080e+00, 2.35831805e+00,\n",
       "        2.09540812e-01],\n",
       "       [4.37509256e-01, 9.68048992e-01, 1.08346765e+00, 2.08876925e-01,\n",
       "        7.55972440e-01],\n",
       "       [7.03187927e-01, 1.35816283e+00, 1.23896174e-03, 2.92713563e-01,\n",
       "        2.04498674e-01],\n",
       "       [3.02470915e+00, 6.59987154e-01, 2.40503906e-01, 3.57124899e+00,\n",
       "        1.07708630e+00]])"
      ]
     },
     "execution_count": 29,
     "metadata": {},
     "output_type": "execute_result"
    }
   ],
   "source": [
    "b = np.random.random((10, 5))\n",
    "print(b)\n",
    "a / b"
   ]
  },
  {
   "cell_type": "code",
   "execution_count": 30,
   "metadata": {},
   "outputs": [
    {
     "data": {
      "text/plain": [
       "array([0.50896934, 0.46365805, 0.42285111, 0.42506119, 0.57053689])"
      ]
     },
     "execution_count": 30,
     "metadata": {},
     "output_type": "execute_result"
    }
   ],
   "source": [
    "np.mean(a, axis=0)"
   ]
  },
  {
   "cell_type": "code",
   "execution_count": 31,
   "metadata": {},
   "outputs": [
    {
     "data": {
      "text/plain": [
       "array([0.30510423, 0.25647736, 0.3064306 , 0.28191055, 0.29958516])"
      ]
     },
     "execution_count": 31,
     "metadata": {},
     "output_type": "execute_result"
    }
   ],
   "source": [
    "np.std(a, axis=0)"
   ]
  },
  {
   "cell_type": "code",
   "execution_count": 32,
   "metadata": {},
   "outputs": [],
   "source": [
    "a = np.random.random((10**7, ))"
   ]
  },
  {
   "cell_type": "code",
   "execution_count": 33,
   "metadata": {},
   "outputs": [
    {
     "data": {
      "text/plain": [
       "(0.5000370759911358, 0.2886101681037059)"
      ]
     },
     "execution_count": 33,
     "metadata": {},
     "output_type": "execute_result"
    }
   ],
   "source": [
    "np.mean(a), np.std(a)"
   ]
  },
  {
   "cell_type": "code",
   "execution_count": 34,
   "metadata": {},
   "outputs": [
    {
     "data": {
      "text/plain": [
       "array([0.4644839 , 0.94350059, 0.04267954, ..., 0.75034232, 0.56401974,\n",
       "       0.0337595 ])"
      ]
     },
     "execution_count": 34,
     "metadata": {},
     "output_type": "execute_result"
    }
   ],
   "source": [
    "a"
   ]
  },
  {
   "cell_type": "code",
   "execution_count": 35,
   "metadata": {},
   "outputs": [],
   "source": [
    "def experiment():\n",
    "    for n in 100 * (4 ** np.arange(10)):\n",
    "        a = np.random.random((n, ))\n",
    "        #print(n, np.mean(a)-0.5, np.std(a))"
   ]
  },
  {
   "cell_type": "code",
   "execution_count": 36,
   "metadata": {},
   "outputs": [
    {
     "name": "stdout",
     "output_type": "stream",
     "text": [
      "309 ms ± 7.59 ms per loop (mean ± std. dev. of 7 runs, 1 loop each)\n"
     ]
    }
   ],
   "source": [
    "%timeit experiment()"
   ]
  },
  {
   "cell_type": "code",
   "execution_count": 37,
   "metadata": {},
   "outputs": [],
   "source": [
    "a = np.random.random((10, 3))"
   ]
  },
  {
   "cell_type": "code",
   "execution_count": 38,
   "metadata": {},
   "outputs": [
    {
     "name": "stdout",
     "output_type": "stream",
     "text": [
      "[[0.84640486 0.17709699 0.97748307]\n",
      " [0.98653749 0.90140399 0.60350472]\n",
      " [0.22305361 0.98011029 0.41183215]\n",
      " [0.78473944 0.68086058 0.57792865]\n",
      " [0.85124845 0.94832577 0.64696527]\n",
      " [0.75498744 0.80444365 0.0902129 ]\n",
      " [0.51246075 0.71227579 0.68687088]\n",
      " [0.29793126 0.66771195 0.7626875 ]\n",
      " [0.90969917 0.19749436 0.30423367]\n",
      " [0.60646696 0.72368005 0.50560097]]\n"
     ]
    }
   ],
   "source": [
    "print(a)"
   ]
  },
  {
   "cell_type": "code",
   "execution_count": 39,
   "metadata": {},
   "outputs": [],
   "source": [
    "from scipy import linalg"
   ]
  },
  {
   "cell_type": "code",
   "execution_count": 40,
   "metadata": {},
   "outputs": [],
   "source": [
    "u, s, v = linalg.svd(a)"
   ]
  },
  {
   "cell_type": "code",
   "execution_count": 41,
   "metadata": {},
   "outputs": [
    {
     "data": {
      "text/plain": [
       "array([[-0.3133513 ,  0.64540508,  0.36094965, -0.17339067, -0.07063453,\n",
       "         0.34716123, -0.21781278, -0.288585  , -0.2552621 , -0.05934363],\n",
       "       [-0.40955169,  0.00477081, -0.20567802, -0.26171382, -0.41028085,\n",
       "        -0.64933763, -0.15033331, -0.02298426, -0.14484979, -0.29557994],\n",
       "       [-0.2650202 , -0.54592485,  0.16849674, -0.02195805, -0.10660146,\n",
       "         0.2383354 , -0.30824914, -0.50421355,  0.413134  , -0.12149432],\n",
       "       [-0.33331597,  0.0657493 , -0.05775458,  0.92623509, -0.06695191,\n",
       "        -0.04589791, -0.04082231, -0.01907262, -0.11221836, -0.04602283],\n",
       "       [-0.40050943, -0.09438997, -0.06144633, -0.10860748,  0.87368107,\n",
       "        -0.1543066 , -0.05590468, -0.01187804, -0.13007953, -0.0882907 ],\n",
       "       [-0.28089017, -0.21295754, -0.55720623, -0.13871323, -0.15340451,\n",
       "         0.59443947,  0.06532984,  0.2251583 , -0.32639168, -0.0874222 ],\n",
       "       [-0.30728583, -0.07497271,  0.26094411, -0.05663572, -0.08222492,\n",
       "         0.00634166,  0.89176472, -0.14148654,  0.04170145, -0.06965747],\n",
       "       [-0.27343033, -0.1322058 ,  0.50810019, -0.03402641, -0.07687423,\n",
       "         0.08001251, -0.15671197,  0.76082753,  0.16423364, -0.07571245],\n",
       "       [-0.23304048,  0.4418695 , -0.39391711, -0.03535992,  0.04118785,\n",
       "         0.05688397,  0.05815516,  0.10579225,  0.7566489 ,  0.04470644],\n",
       "       [-0.29989906, -0.0920016 , -0.00155046, -0.07997054, -0.09805802,\n",
       "        -0.10992052, -0.05191537, -0.02624937, -0.07684833,  0.92962937]])"
      ]
     },
     "execution_count": 41,
     "metadata": {},
     "output_type": "execute_result"
    }
   ],
   "source": [
    "u"
   ]
  },
  {
   "cell_type": "code",
   "execution_count": 42,
   "metadata": {},
   "outputs": [
    {
     "data": {
      "text/plain": [
       "array([3.55925907, 0.95772253, 0.77015038])"
      ]
     },
     "execution_count": 42,
     "metadata": {},
     "output_type": "execute_result"
    }
   ],
   "source": [
    "s"
   ]
  },
  {
   "cell_type": "code",
   "execution_count": 43,
   "metadata": {},
   "outputs": [
    {
     "data": {
      "text/plain": [
       "array([[-0.61129369, -0.61294489, -0.5006182 ],\n",
       "       [ 0.53046692, -0.78677813,  0.31557093],\n",
       "       [-0.58730304, -0.07265488,  0.8060995 ]])"
      ]
     },
     "execution_count": 43,
     "metadata": {},
     "output_type": "execute_result"
    }
   ],
   "source": [
    "v"
   ]
  },
  {
   "cell_type": "code",
   "execution_count": 44,
   "metadata": {},
   "outputs": [],
   "source": [
    "# Normally distributed samples.\n",
    "#samples = np.random.normal(size=10000)\n",
    "\n",
    "# Uniformly random samples in [-4,4].\n",
    "samples = np.random.uniform(low=-4,high=4,size=1000000)"
   ]
  },
  {
   "cell_type": "code",
   "execution_count": 45,
   "metadata": {},
   "outputs": [
    {
     "data": {
      "text/plain": [
       "array([-3.95599014, -3.07081775,  1.8363186 , ...,  3.29919111,\n",
       "        1.46220072, -3.16420982])"
      ]
     },
     "execution_count": 45,
     "metadata": {},
     "output_type": "execute_result"
    }
   ],
   "source": [
    "samples"
   ]
  },
  {
   "cell_type": "code",
   "execution_count": 46,
   "metadata": {},
   "outputs": [],
   "source": [
    "# Create the bin endpoints array.\n",
    "bins = np.arange(-4, 4, 0.1)"
   ]
  },
  {
   "cell_type": "code",
   "execution_count": 47,
   "metadata": {},
   "outputs": [],
   "source": [
    "# Calculate the histogram. Returns the bin counts and bin endpoint values.\n",
    "histogram = np.histogram(samples, bins)"
   ]
  },
  {
   "cell_type": "code",
   "execution_count": 48,
   "metadata": {},
   "outputs": [],
   "source": [
    "bin_centers = 0.5 * (bins[:-1] + bins[1:])"
   ]
  },
  {
   "cell_type": "code",
   "execution_count": 49,
   "metadata": {},
   "outputs": [
    {
     "data": {
      "text/plain": [
       "[<matplotlib.lines.Line2D at 0x17d09e1f0>]"
      ]
     },
     "execution_count": 49,
     "metadata": {},
     "output_type": "execute_result"
    },
    {
     "data": {
      "image/png": "[encoded data removed]",
      "text/plain": [
       "<Figure size 432x288 with 1 Axes>"
      ]
     },
     "metadata": {
      "needs_background": "light"
     },
     "output_type": "display_data"
    }
   ],
   "source": [
    "import matplotlib.pyplot as plt\n",
    "\n",
    "plt.plot(bin_centers, histogram[0])"
   ]
  },
  {
   "cell_type": "code",
   "execution_count": 50,
   "metadata": {},
   "outputs": [
    {
     "data": {
      "image/png": "[encoded data removed]",
      "text/plain": [
       "<Figure size 432x288 with 1 Axes>"
      ]
     },
     "metadata": {
      "needs_background": "light"
     },
     "output_type": "display_data"
    }
   ],
   "source": [
    "# A shortcut!\n",
    "plt.hist(samples, 100);"
   ]
  },
  {
   "cell_type": "markdown",
   "metadata": {
    "tags": []
   },
   "source": [
    "# Assignments\n",
    "1. Create a null array of size 10 but the fifth value which is 1.\n",
    "2. Reverse a above created array (first element becomes last).\n",
    "3. Create a 3x3 matrix with values ranging from 0 to 8.\n",
    "4. Find indices of non-zero elements from [1,2,0,0,4,0].\n",
    "5. Create a 3x3x3 array with random values.\n",
    "6. Create a 10x10 array with random values and find the minimum and maximum values.\n",
    "7. Create a random vector of size 30 and find the mean value.\n",
    "8. Create a 2d array with 1 on the border and 0 inside.\n",
    "9. Multiply a 5x3 matrix by a 3x2 matrix (real matrix product).\n",
    "10. Extract the integer part of a random array.\n",
    "11. Create a 5x5 matrix with row values ranging from 0 to 4.\n",
    "12. Create a random vector of size 10 and sort it.\n",
    "13. Consider two random array A anb B, check if they are equal.\n",
    "14. How to tell if a given 2D array has null columns?\n",
    "15. Considering a four dimensions array, how to get sum over the last two axis at once?\n",
    "16. Consider an array of dimension (5,5,3), how to mulitply it by an array with dimensions (5,5)?\n",
    "17. Extract all the contiguous 3x3 blocks from a random 10x10 matrix.\n",
    "18. Consider a 16x16 array, how to get the block-sum (block size is 4x4)?"
   ]
  },
  {
   "cell_type": "code",
   "execution_count": null,
   "metadata": {},
   "outputs": [],
   "source": []
  }
 ],
 "metadata": {
  "hide_input": false,
  "kernelspec": {
   "display_name": "Python 3 (ipykernel)",
   "language": "python",
   "name": "python3"
  },
  "language_info": {
   "codemirror_mode": {
    "name": "ipython",
    "version": 3
   },
   "file_extension": ".py",
   "mimetype": "text/x-python",
   "name": "python",
   "nbconvert_exporter": "python",
   "pygments_lexer": "ipython3",
   "version": "3.9.7"
  }
 },
 "nbformat": 4,
 "nbformat_minor": 4
}
