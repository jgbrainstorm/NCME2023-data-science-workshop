{
 "cells": [
  {
   "cell_type": "code",
   "execution_count": 2,
   "metadata": {},
   "outputs": [],
   "source": [
    "\"\"\"In Python, we can use the # sign for a line comment (everything after the # sign on that line will be ignored).\n",
    "A block comment starts and ends with three quote signs. We use those for function and file documentation. Here I am\n",
    "using block comments to denote some of my comments as the notebook colors them in red, which is convenient.\"\"\"\n",
    "\n",
    "# Place all imports at the beginning of a notebook/script/file. I also sort them in alphabetical order.\n",
    "import numpy as np"
   ]
  },
  {
   "cell_type": "code",
   "execution_count": 3,
   "metadata": {},
   "outputs": [
    {
     "data": {
      "text/plain": [
       "array([None, None, None, None, None, None, None, None, None, None],\n",
       "      dtype=object)"
      ]
     },
     "execution_count": 3,
     "metadata": {},
     "output_type": "execute_result"
    }
   ],
   "source": [
    "#1. Create a null array of size 10 but the fifth value which is 1\n",
    "\"\"\"Here you created a list, but the syntax for array is similiar:\n",
    "\n",
    "It is good practice to specify the array's data type with the 'dtype' parameter. Since None can be anything, we use\n",
    "dtype=object.\"\"\"\n",
    "a = np.array([None] * 10, dtype=object)\n",
    "a"
   ]
  },
  {
   "cell_type": "code",
   "execution_count": 4,
   "metadata": {},
   "outputs": [
    {
     "data": {
      "text/plain": [
       "array([None, None, None, None, None, None, None, None, None, None],\n",
       "      dtype=object)"
      ]
     },
     "execution_count": 4,
     "metadata": {},
     "output_type": "execute_result"
    }
   ],
   "source": [
    "#2. Reverse a above created array (first element becomes last)\n",
    "a[-1::-1]"
   ]
  },
  {
   "cell_type": "code",
   "execution_count": 7,
   "metadata": {},
   "outputs": [
    {
     "name": "stdout",
     "output_type": "stream",
     "text": [
      "numpy matrix is \n",
      "[[0 1 2]\n",
      " [3 4 5]\n",
      " [6 7 8]]\n",
      "\n"
     ]
    }
   ],
   "source": [
    "#3. Create a 3x3 matrix with values ranging from 0 to 8\n",
    "import numpy as np\n",
    "\n",
    "pymat = [[0,1,2],[3,4,5],[6,7,8]]\n",
    "npmat = np.array(pymat)\n",
    "print ('numpy matrix is \\n%s\\n'%npmat)"
   ]
  },
  {
   "cell_type": "code",
   "execution_count": 8,
   "metadata": {},
   "outputs": [
    {
     "name": "stdout",
     "output_type": "stream",
     "text": [
      "The index of 1 = [ 0 ]\n",
      "The index of 2 = [ 1 ]\n",
      "The index of 4 = [ 4 ]\n",
      "Only non-negative values, each one occuring once\n",
      "[0, 1, 4]\n",
      "[0, 1, 4]\n",
      "Repeated values\n",
      "[0, 1, 4, 5]\n",
      "[0, 1, 4, 4]\n",
      "Negative values\n",
      "[0, 1, 4]\n",
      "[1, 4]\n",
      "3.18 ms ± 81.1 µs per loop (mean ± std. dev. of 7 runs, 100 loops each)\n",
      "409 ms ± 3.09 ms per loop (mean ± std. dev. of 7 runs, 1 loop each)\n"
     ]
    }
   ],
   "source": [
    "#4. Find indices of non-zero elements from [1,2,0,0,4,0]\n",
    "\n",
    "# Let's consider the follwing code first as an example. Can you spot the problems in it?\n",
    "list = [1,2,0,0,4,0]\n",
    "for n in list:\n",
    "    if n > 0:\n",
    "        index = list.index(n)\n",
    "        print('The index of', n, \"=\", \"[\", index, \"]\")\n",
    "        \n",
    "\"\"\"The above code has several issues:\n",
    "- Don't use the reserved word 'list' for a variable; it can be confusing. Call it 'lst', 'data', etc.\n",
    "- Bug 1: it only finds positive elements, not all non-zeros (which could be negative as well!).\n",
    "- Bug 2: it won't give the expected result if there is a repeated non-zero element in the list. index() returns\n",
    "the first occurrence of a value. If the last element were also 4, we would not return it.\n",
    "- Slow performance: if the list is of size n, we first need n operations to find all values in the list.\n",
    "('for n in list'). Thus, the loop is executed at worst n times (when all values are non-zero). Furthermore, every\n",
    "call list.index() has to potentially search through the entire list to find the value\n",
    "(take the list = [1,2,3,4,...,n]; value i will require i times to find the value 'i', and for large i ~ n we need\n",
    "to loop over [nearly] the whole list. The total number of passes over elements is 1+2+3+4+...+n = n(n-1)/2. For large\n",
    "n, this is about n^2, so the code will take 4 times longer to run over a twice larger list. We should be able to\n",
    "do faster than that, since the total amount of data in our problem is n. For very large n, n^2 is a lot larger than\n",
    "n.\n",
    "\n",
    "Instead, we can use the function programming tools to filter the list (finding elements that match a certain criteria\n",
    "should trigger in our minds the use of filter(). But we want the index, not the element itself, which calls for \n",
    "another tool we haven't learned yet: enumerate(). \n",
    "\n",
    "enumerate(a) is a generator that returns the tuples (0, a[0]), (1, a[1]), (2, a[2]), ..., (n-1, a[n-1]) where n=len(a).\n",
    "This gives us an index and value together, so we can do this:\n",
    "\"\"\"\n",
    "\n",
    "# First, fix the symbol overriding above. Otherwise, we can't use the list keyword below to read items from \n",
    "# a generator exprssion, since it was used above for a variable.\n",
    "del list\n",
    "\n",
    "def non_zero_indices(data):\n",
    "    \"\"\"Returns the list of all non-zero elements in the list 'data'. Actually, 'data' can be any iterable of numbers:\n",
    "    numpy array, or a generator expression of numbers. This code runs in O(n) time and O(1) storage for a list of\n",
    "    n elements.\"\"\"\n",
    "    # Returning the actual list. We could keep the returned value as a generator expression for more efficient\n",
    "    # code if it is to be fed into downstream code.\n",
    "    # Let's parse this:\n",
    "    # enumerate(data) gives us (0, data[0]), (1, data[1])\n",
    "    # filter() takes a function of a tuple (called t). We return True if and only if t[1], the data element, is\n",
    "    # non-zero. This will give us a generator of all tuples (i, data[i]) where data[i] > 0.\n",
    "    # Now, we apply a map to each tuple - return the first element in the tuple, i, which is the index of the element.\n",
    "    # Finally, we read all elements from the generator into a list. Note that our code is not just shorter but\n",
    "    # also more efficient as it touches each element in the array once, so for n elements it runs in time ~ n.\n",
    "    return list(map(lambda t: t[0], filter(lambda t: t[1] != 0, enumerate(data))))\n",
    "\n",
    "def non_zero_indices_using_index(data):\n",
    "    \"\"\"This is the first implementation, just wrapped in a function. This accepts only a list, not a numpy array,\n",
    "    since we're using index() which is a list function. This runs in O(n^2) time for an n-element list.\"\"\"\n",
    "    index_list = []\n",
    "    for n in data:\n",
    "        if n > 0:\n",
    "            index = data.index(n)\n",
    "            # Say we add it to a list instead of printing it so we can compare both implementations.\n",
    "            index_list.append(index)\n",
    "    return index_list\n",
    "\n",
    "# For the above test case, both implementations work.\n",
    "data = [1, 2, 0, 0, 4, 0]   # Space after each comma is a style guide.\n",
    "print(\"Only non-negative values, each one occuring once\")\n",
    "print(non_zero_indices(data))\n",
    "print(non_zero_indices_using_index(data))\n",
    "\n",
    "# Repeated values work only with the map-filter implementation.\n",
    "print(\"Repeated values\")\n",
    "data = [1, 2, 0, 0, 4, 4]\n",
    "print(non_zero_indices(data))\n",
    "print(non_zero_indices_using_index(data))\n",
    "\n",
    "# Negative values work only with the map-filter implementation.\n",
    "print(\"Negative values\")\n",
    "data = [-1, 2, 0, 0, 4, 0]\n",
    "print(non_zero_indices(data))\n",
    "print(non_zero_indices_using_index(data))\n",
    "\n",
    "# Compare timing on a large list with a large spread of values, which is where non_zero_indices_using_index() will\n",
    "# take the longest to find elements. On my machine, I see a 100x speedup!\n",
    "data = list(np.random.randint(low=-10000, high=10000, size=10000))\n",
    "%timeit non_zero_indices(data)\n",
    "%timeit non_zero_indices_using_index(data)\n",
    "\n",
    "\"\"\"In summary, we see a typical code development: we start with a simple function, then find better ways to implement\n",
    "it. We write tests against different types of inputs to verify the code's correctness. Finally, we benchmark our code\n",
    "and figure out if there are bottlenecks and how to make it faster for large problems. We make sure to document each\n",
    "method, saying what it takes as input, what it outputs, and how fast it runs. As you can see, even the simplest\n",
    "tasks can be drastically improved.\"\"\"; # This little ; at the end is there just so that the notebook doesn't print this comment."
   ]
  },
  {
   "cell_type": "code",
   "execution_count": 37,
   "metadata": {},
   "outputs": [
    {
     "data": {
      "text/plain": [
       "array([0, 1, 4])"
      ]
     },
     "execution_count": 37,
     "metadata": {},
     "output_type": "execute_result"
    }
   ],
   "source": [
    "\"\"\"Now, if you're using numpy arrays instead of lists, numpy already has a shortcut for doing what we did:\"\"\"\n",
    "\n",
    "data = np.array([-1, 2, 0, 0, 4, 0])\n",
    "\"\"\"np.where() returns a tuple of indices for each dimension of the array that match the expression data != 0.\n",
    "Since this is a 1D array, it's a tuple of size 1, so we typically use np.where(data != 0)[0] as our answer.\"\"\"\n",
    "np.where(data != 0)[0]"
   ]
  },
  {
   "cell_type": "code",
   "execution_count": 17,
   "metadata": {},
   "outputs": [
    {
     "name": "stdout",
     "output_type": "stream",
     "text": [
      "matrix generated from numpy.random.random is \n",
      "[[0.68208693 0.9277571  0.01802716]\n",
      " [0.77010355 0.43851083 0.13145025]\n",
      " [0.19917503 0.97919282 0.40063113]]\n",
      "\n"
     ]
    }
   ],
   "source": [
    "#5. Create a 3x3x3 array with random values\n",
    "\n",
    "#Using numpy.random.random\n",
    "mat1 = np.random.random(size=(3,3))\n",
    "print ('matrix generated from numpy.random.random is \\n%s\\n'%mat1)"
   ]
  },
  {
   "cell_type": "code",
   "execution_count": 41,
   "metadata": {},
   "outputs": [
    {
     "name": "stdout",
     "output_type": "stream",
     "text": [
      "matrix generated from numpy.random.random is \n",
      "[[ 4  8 18 13 10  9 13  0  6 17]\n",
      " [ 8  0  9  9  8 10 16 10  8 11]\n",
      " [12  2  3  0 15 16 10 19 13  6]\n",
      " [ 7 14 18  1  5  8  9 13  6  5]\n",
      " [12 12  3  3 17  2 14  2 13  5]\n",
      " [ 2  9 13 16 19  9 19 14 15 10]\n",
      " [19 16 15 14  8  7 15 10  1 13]\n",
      " [ 0 10  4  2  1 18  5  5  7  5]\n",
      " [16 12  9 19 13 19  6 13 13  0]\n",
      " [ 4 16 17 16  6 11  8  7  8 17]]\n",
      "\n",
      "min 0 max 19\n"
     ]
    }
   ],
   "source": [
    "#6. Create a 10x10 array with random values and find the minimum and maximum values\n",
    "\n",
    "mat2 = np.random.randint(low=0,high=20,size=(10,10))\n",
    "print ('matrix generated from numpy.random.random is \\n%s\\n'%mat2)\n",
    "\n",
    "print(\"min\", mat2.min(), \"max\", mat2.max())\n",
    "\n",
    "\"\"\"Note that this would be a useful test case of the function np.random.randint() to ensure that if you asked for\n",
    "the range [0,20) you get only numbers in that range.\"\"\";"
   ]
  },
  {
   "cell_type": "code",
   "execution_count": 20,
   "metadata": {},
   "outputs": [
    {
     "name": "stdout",
     "output_type": "stream",
     "text": [
      "matrix generated from numpy.random.random is \n",
      "[0.78377484 0.71798643 0.89393805 0.46867435 0.72821659 0.03454968\n",
      " 0.31198322 0.61716664 0.57931898 0.3315161  0.40624549 0.27103195\n",
      " 0.12632674 0.2781223  0.84456975 0.71218764 0.87216624 0.43054051\n",
      " 0.79736251 0.00698133 0.59892498 0.0351275  0.37707422 0.58333232\n",
      " 0.48889496 0.92291963 0.80933515 0.63599263 0.82042715 0.31335971]\n",
      "\n",
      "Overall mean of vector is \n",
      "0.526601587275102\n",
      "\n"
     ]
    }
   ],
   "source": [
    "#7. Create a random vector of size 30 and find the mean value\n",
    "\n",
    "#Using numpy.random.random\n",
    "vec1 = np.random.random(size=(30))\n",
    "print ('matrix generated from numpy.random.random is \\n%s\\n'%vec1)\n",
    "print ('Overall mean of vector is \\n%s\\n'%np.mean(vec1))"
   ]
  },
  {
   "cell_type": "code",
   "execution_count": 43,
   "metadata": {},
   "outputs": [
    {
     "name": "stdout",
     "output_type": "stream",
     "text": [
      "[[1. 0. 0. 0. 1.]\n",
      " [1. 0. 0. 0. 1.]]\n",
      "Using border_array():\n",
      "[[1. 1. 1. 1.]\n",
      " [1. 0. 0. 1.]\n",
      " [1. 0. 0. 1.]\n",
      " [1. 0. 0. 1.]\n",
      " [1. 1. 1. 1.]]\n"
     ]
    }
   ],
   "source": [
    "#8. Create a 2d array with 1 on the border and 0 inside\n",
    "\"\"\"To understand slicing, just keep in mind that : means the entire range of a dimension. Hence, for a 2D array a,\n",
    "\n",
    "a[1:4, :] = the second, third and fourth rows of a (since we specified : in the second dimension = columns)\n",
    "a[:, 1:4] = the second, third and fourth columns of a (since we specified : in the first dimension = columns)\n",
    "a[:, :] = all of a\n",
    "a[1:4, 2:3] = the sub-matrix of a starting at a[1,1] and ending at a[3,2] (row range + column range).\n",
    "\n",
    "In numpy, they added a shortcut/convenience that may be confusing you at the moment -- if you want to slice in the\n",
    "first dimension only (i.e., get a row range), you can omit the second : . Thus\n",
    "\n",
    "a[1:4] is the same as a[1:4, :]\n",
    "\n",
    "If it's confusing, just use the full notation a[1:4, :].\n",
    "\n",
    "To answer your question above, the first : controls the row range, which means get all rows, while the second\n",
    "range (say, 1:4) controls the column range. Thus a[:, 1:4] returns the second, third and fourth columns. In your\n",
    "function you are only setting the left and right borders to 1. I interpreted the question as having border of 1 all\n",
    "around.\n",
    "\n",
    "Now for the problem itself: we can generate an m x n matrix with zeros, then set the first row to 1, last row to 1,\n",
    "first column to 1, and last column to 1. This will give us the full border of ones.\n",
    "\"\"\"\n",
    "\n",
    "def border_array(m, n):\n",
    "    \"\"\"Returns an m x n matrix with a border of 1 and interior of 0.\"\"\"\n",
    "    a = np.zeros((m, n))\n",
    "    # Set first row to 1. We could use a[0, :] = 1, but we can use the shortcut!\n",
    "    a[0] = 1\n",
    "    # Set last row to 1. We don't even need to refer to the size 'n' here if we utilize negative indexing.\n",
    "    a[-1] = 1\n",
    "    # Set first column to 1. Note that a[0, 0] is already 1, but we override it with 1 so it's OK.\n",
    "    a[:, 0] = 1\n",
    "    # Set last column to 1. Note that a[-1, -1] is already 1, but we override it with 1 so it's OK.\n",
    "    a[:, -1] = 1\n",
    "    return a\n",
    "\n",
    "print(\"Using border_array():\")\n",
    "print(border_array(5, 4))"
   ]
  },
  {
   "cell_type": "code",
   "execution_count": 320,
   "metadata": {},
   "outputs": [
    {
     "name": "stdout",
     "output_type": "stream",
     "text": [
      "mat1= [[0.94604661 0.83414915 0.4491943 ]\n",
      " [0.4337302  0.55981213 0.39858667]\n",
      " [0.20202951 0.55990693 0.31369956]\n",
      " [0.8143894  0.77542236 0.44637564]\n",
      " [0.52406032 0.63097701 0.94516279]]\n",
      "mat2= [[0.79855583 0.54538824]\n",
      " [0.66005971 0.10754943]\n",
      " [0.73363607 0.1704974 ]]\n",
      "product= [[1.63560442 0.68226142]\n",
      " [1.00828477 0.36471682]\n",
      " [0.76104516 0.22388715]\n",
      " [1.48963773 0.60366052]\n",
      " [1.52837944 0.51482535]]\n"
     ]
    }
   ],
   "source": [
    "#9. Multiply a 5x3 matrix by a 3x2 matrix (real matrix product)\n",
    "\n",
    "mat53 = np.random.random(size=(5,3))\n",
    "mat32 = np.random.random(size=(3,2))\n",
    "print (\"mat1=\", mat53)\n",
    "print (\"mat2=\",mat32)\n",
    "product = np.dot(mat53, mat32)\n",
    "print(\"product=\", product)"
   ]
  },
  {
   "cell_type": "code",
   "execution_count": 54,
   "metadata": {},
   "outputs": [
    {
     "name": "stdout",
     "output_type": "stream",
     "text": [
      "Here's the array: [-1.42169935  0.51821166 -0.70178006 -0.39301117 -0.29106221 -1.05893897\n",
      "  0.44446843  1.06954095  0.61317713  0.18986251]\n",
      "[-1.  0. -0. -0. -0. -1.  0.  1.  0.  0.]\n",
      "[-14.21699347   5.18211658  -7.01780058  -3.93011166  -2.91062209\n",
      " -10.58938972   4.44468434  10.69540949   6.13177131   1.89862514]\n",
      "[-14.   5.  -7.  -3.  -2. -10.   4.  10.   6.   1.]\n"
     ]
    }
   ],
   "source": [
    "#10. Extract the integer part of a random array\n",
    "\n",
    "#Question: not exactly sure what to do here? \n",
    "\n",
    "array_b = np.random.randn(10) #generate random normal distribution; extract only integers from each value; i'm sure there is a more efficient way :-)\n",
    "#print (\"\\n\",\"***Is this what you were thinking?***\",\"\\n\")\n",
    "print (\"Here's the array:\", array_b)\n",
    "for digit in array_b:\n",
    "    digit_s = str(digit)\n",
    "    for i in digit_s:\n",
    "        if i.isdigit():\n",
    "            pass\n",
    "            \"\"\"An empty statement in python; you must have one inside a nested block or it will get confused\n",
    "            about what to do with an empty block following an 'if'.\"\"\"\n",
    "            \"\"\"I commented out your prints so we can see the results of the code below without scrolling down.\"\"\"\n",
    "            #print(\"I am an integer =\",i)\n",
    "\n",
    "\"\"\"You were in the right direction, but above we need to convert every float to a string, then check if it's a\n",
    "digit, etc. - we want to do everything in floating point and not involve strings (which are a lot slower).\n",
    "Fortunately, numpy provides a magic function to do this:\n",
    "\n",
    "https://numpy.org/doc/stable/reference/generated/numpy.trunc.html\n",
    "\n",
    "Scroll \n",
    "\"\"\"\n",
    "print(np.trunc(array_b))\n",
    "\n",
    "\"\"\"Let's make it more interesting by scaling b up.\"\"\"\n",
    "c = 10 * array_b\n",
    "print(c)\n",
    "print(np.trunc(c))\n",
    "\n",
    "\"\"\"If you didn't know about the numpy function (which I didn't either, I googled it as I do for everything in numpy),\n",
    "we could alternatively use map() on the array, and in the lambda function do something like lambda x: math.trunc(x),\n",
    "where math is the standard math library ('import math' would be required). Or we could write a function that truncates\n",
    "a float by hand, but in any case, not use strings.\"\"\";"
   ]
  },
  {
   "cell_type": "code",
   "execution_count": 9,
   "metadata": {},
   "outputs": [
    {
     "name": "stdout",
     "output_type": "stream",
     "text": [
      "[[0 1 2 3 4]\n",
      " [0 1 2 3 4]\n",
      " [0 1 2 3 4]\n",
      " [0 1 2 3 4]\n",
      " [0 1 2 3 4]]\n"
     ]
    }
   ],
   "source": [
    "#11. Create a 5x5 matrix with row values ranging from 0 to 4\n",
    "\n",
    "\"\"\"The function to call is np.tile(): https://numpy.org/doc/stable/reference/generated/numpy.tile.html\n",
    "We create the range as you did, and then tile it in the second dimension. I never know whether it should be (1, 5)\n",
    "or (5, 1) in tiling so I try both and see which is right. :)\"\"\"\n",
    "print(np.tile(np.arange(5), (5, 1)))"
   ]
  },
  {
   "cell_type": "code",
   "execution_count": 552,
   "metadata": {},
   "outputs": [
    {
     "name": "stdout",
     "output_type": "stream",
     "text": [
      "original: [0.53995558 0.73393044 0.11538771 0.28050683 0.54481254 0.1172875\n",
      " 0.75315917 0.73346305 0.06280361 0.55951623]\n",
      "sorted: [0.53995558 0.73393044 0.11538771 0.28050683 0.54481254 0.1172875\n",
      " 0.75315917 0.73346305 0.06280361 0.55951623]\n"
     ]
    }
   ],
   "source": [
    "#12.  Create a random vector of size 10 and sort it\n",
    "\n",
    "random_vec = np.random.random(size=(10))\n",
    "print (\"original:\", random_vec)\n",
    "np.sort(random_vec)\n",
    "print (\"sorted:\", random_vec)"
   ]
  },
  {
   "cell_type": "code",
   "execution_count": 67,
   "metadata": {},
   "outputs": [
    {
     "name": "stdout",
     "output_type": "stream",
     "text": [
      "A= [2 3 1 4 4 3 1 4 3 0]\n",
      "B= [3 1 3 0 0 3 3 1 2 3]\n",
      "[2 3 1 4 4 3 1 4 3 0] is not equal to [3 1 3 0 0 3 3 1 2 3]\n",
      "[False False False False False  True False False False False]\n",
      "all result False\n",
      "A == B? False\n",
      "A == A? True\n"
     ]
    }
   ],
   "source": [
    "#13. Consider two random array A anb B, check if they are equal.\n",
    "\n",
    "A = np.random.randint(5, size = 10)\n",
    "B = np.random.randint(5, size = 10)\n",
    "print(\"A=\", A)\n",
    "print(\"B=\", B)\n",
    "test_equality = A == B\n",
    "if False in test_equality:\n",
    "    print(A, \"is not equal to\", B)\n",
    "else:\n",
    "    print(A, \"is equal to\", B)\n",
    "    \n",
    "\"\"\"Correct! Instead of checking if there's a False value in an array, python provides the function all()\"\"\"\n",
    "print(A == B)\n",
    "print(\"all result\", all(A == B))  # Returns True iff all values in an array are True. Similarly, cf. the function any().\n",
    "\"\"\"Or we could use the numpy function that does all this for us:\n",
    "https://numpy.org/doc/stable/reference/generated/numpy.array_equal.html\"\"\"\n",
    "print(\"A == B?\", np.array_equal(A, B))\n",
    "print(\"A == A?\", np.array_equal(A, A))\n",
    "\n",
    "\"\"\"Style comment: we usually use lowercase letters for all variables including matrices - a, b and not A, B.\"\"\";"
   ]
  },
  {
   "cell_type": "code",
   "execution_count": 79,
   "metadata": {},
   "outputs": [
    {
     "name": "stdout",
     "output_type": "stream",
     "text": [
      "Column 1 is NULL: [None None]\n"
     ]
    },
    {
     "data": {
      "text/plain": [
       "array([1])"
      ]
     },
     "execution_count": 79,
     "metadata": {},
     "output_type": "execute_result"
    }
   ],
   "source": [
    "#14. How to tell if a given 2D array has null columns?\n",
    "\n",
    "\"\"\"As a general rule in python, and in particular numpy, loops are a lot slower (and harder to read) than array\n",
    "operations. Numpy is optimized to do operations on entire rows or columns a lot faster than looping over elements.\n",
    "Here we use a variant of all() provided by numpy: np.all() can work along a dimension, while all() is a generic\n",
    "python function that works on any generator. For each column, we use np.all() to find if it's all nulls; then we\n",
    "use np.where() to find the columns that tested positive. Both np.all() and np.where() are block operations instead\n",
    "of loops so fast and easy to read.\n",
    "\"\"\"\n",
    "\n",
    "\"\"\"Prints the indices of all null columns. Remember that np.where() returns a tuple of size 1 on a 1D array, so\n",
    "we take the first element in the tuple. See\n",
    "\n",
    "https://numpy.org/doc/stable/reference/generated/numpy.where.html\"\"\"\n",
    "np.where(np.all(npmat3 == None, axis=0))[0]"
   ]
  },
  {
   "cell_type": "code",
   "execution_count": 85,
   "metadata": {},
   "outputs": [
    {
     "name": "stdout",
     "output_type": "stream",
     "text": [
      "matrix= [[ 0.18546845  1.35982131 -2.21873518 -0.05207876]\n",
      " [ 0.94251265  0.93575419  1.67977604 -1.74821217]\n",
      " [-1.30990468 -0.4488677   1.50490394 -0.44999352]] \n",
      " slice= [[ 0.94251265  0.93575419  1.67977604 -1.74821217]\n",
      " [-1.30990468 -0.4488677   1.50490394 -0.44999352]] \n",
      " sum= 1.1059687420372832\n",
      "(3, 4, 5, 6)\n",
      "[[  4.54626235   6.63733306   3.7256565   -2.45235477]\n",
      " [  8.21551427   7.65729304  -2.38509093  -0.18550861]\n",
      " [-14.87626978  -0.71546403   1.10235407  10.04778306]]\n"
     ]
    }
   ],
   "source": [
    "#15. Considering a four dimensions array, how to get sum over the last two axis at once?\n",
    "\n",
    "tensor = np.random.randn(3,4,5,6)\n",
    "print(tensor.shape)\n",
    "\"\"\"np.sum() can take multiple axes, here the last two are 2, 3 (remember everything is 0-based). Since we are summing\n",
    "over the last 2 dimensions, our sum result should be a 3 x 4 matrix, not a scalar. Indeed:\"\"\"\n",
    "print(np.sum(tensor, axis=(2, 3)))"
   ]
  },
  {
   "cell_type": "code",
   "execution_count": 10,
   "metadata": {},
   "outputs": [
    {
     "name": "stdout",
     "output_type": "stream",
     "text": [
      "PRODUCT= [[-0.12018002 -0.20915879  0.04099585 ...  0.10229974 -0.15384339\n",
      "   0.30666343]\n",
      " [ 0.03824199  0.06655555 -0.01304512 ... -0.03255238  0.04895387\n",
      "  -0.0975821 ]\n",
      " [-0.17511421 -0.30476512  0.05973503 ...  0.14906087 -0.22416509\n",
      "   0.44683905]\n",
      " ...\n",
      " [-0.01850925 -0.03221312  0.00631388 ...  0.01575546 -0.02369384\n",
      "   0.04723007]\n",
      " [-0.32605143 -0.5674531   0.11122279 ...  0.27754178 -0.41738102\n",
      "   0.83198564]\n",
      " [-0.35964618 -0.6259207   0.12268264 ...  0.30613833 -0.46038593\n",
      "   0.91770939]]\n"
     ]
    }
   ],
   "source": [
    "#16. Consider an array of dimension (5,5,3), how to mulitply it by an array with dimensions (5,5)?\n",
    "#Question: I'm not sure if this is right. I tried different things, but taking the outer product of\n",
    "#arrays with non-equal dimensions seems to work. I did not find a solution in the videos or in the notebook, so\n",
    "#I tried to find something online.\n",
    "\n",
    "arrayx553 = np.random.randn(5,5,3)\n",
    "arrayx55 = np.random.randn(5,5)\n",
    "product2 = np.outer(arrayx553,arrayx55)\n",
    "\n",
    "print(\"PRODUCT=\", product2)\n",
    "\n",
    "\"\"\"This question is a bit unclear, so skip it if it didn't make sense.\"\"\";"
   ]
  },
  {
   "cell_type": "code",
   "execution_count": 11,
   "metadata": {},
   "outputs": [
    {
     "name": "stdout",
     "output_type": "stream",
     "text": [
      "[[ 0  1  2  3  4]\n",
      " [ 5  6  7  8  9]\n",
      " [10 11 12 13 14]\n",
      " [15 16 17 18 19]]\n",
      "[[ 0  1  2]\n",
      " [ 5  6  7]\n",
      " [10 11 12]]\n",
      "[[ 1  2  3]\n",
      " [ 6  7  8]\n",
      " [11 12 13]]\n",
      "[[ 2  3  4]\n",
      " [ 7  8  9]\n",
      " [12 13 14]]\n",
      "[[ 5  6  7]\n",
      " [10 11 12]\n",
      " [15 16 17]]\n",
      "[[ 6  7  8]\n",
      " [11 12 13]\n",
      " [16 17 18]]\n",
      "[[ 7  8  9]\n",
      " [12 13 14]\n",
      " [17 18 19]]\n"
     ]
    }
   ],
   "source": [
    "#17. Extract all the contiguous 3x3 blocks from a random 10x10 matrix\n",
    "#CONFUSED: Outside of my understanding from the lectures. Sorry. I can make the matrix but not sure how \n",
    "#to get the 'blocks'\n",
    "\n",
    "\"\"\"We can get each block by slicing operations. Suppose we have the 4x5 matrix (just an example)\n",
    "\n",
    " 1  2  3  4  5\n",
    " 6  7  8  9 10\n",
    "11 12 13 14 15\n",
    "16 17 18 19 20\n",
    "\n",
    "then the first 3x3 block (top left corner) is\n",
    "\n",
    " 1  2  3\n",
    " 6  7  8\n",
    "11 12 13\n",
    "\n",
    "Then we take the next, overlapping block by shifting to the right by one column:\n",
    "\n",
    " 2  3  4\n",
    " 7  8  9\n",
    "12 13 14\n",
    "\n",
    "and so on until the end of the row. Now we can shift down by one row:\n",
    "\n",
    " 6  7  8\n",
    "11 12 13\n",
    "16 17 18\n",
    "\n",
    "and so on until we get to the bottom right corner:\n",
    "\n",
    " 8  9 10\n",
    "13 14 15\n",
    "18 19 20\n",
    "\n",
    "So each block starts at some index, (i, j), and ends at (i + 2, j + 2). So it is specified by\n",
    "\n",
    "a[i:i+3, j:j+3]\n",
    "\n",
    "Now, we want to make sure we include all possible (i, j)'s starting at the top left corner but not falling off the edge\n",
    "of the array on the right or bottom. This ends up being:\n",
    "\"\"\"\n",
    "\n",
    "def contiguous_3x3_blocks(a):\n",
    "    # a.shape is a tuple, and we can extract its values into two variables m, n with one line instead of\n",
    "    # m = a.shape[0]\n",
    "    # n = a.shape[1]\n",
    "    m, n = a.shape\n",
    "    return [a[i:i+3, j:j+3] for i in range(m-2) for j in range(n-2)]\n",
    "\n",
    "\"\"\"Let's test this but not on a random matrix so it's easy for us to verify this by eye.\"\"\"\n",
    "\n",
    "a = np.arange(20).reshape(4, 5)\n",
    "print(a)\n",
    "for block in contiguous_3x3_blocks(a):\n",
    "    print(block)"
   ]
  },
  {
   "cell_type": "code",
   "execution_count": 24,
   "metadata": {},
   "outputs": [
    {
     "name": "stdout",
     "output_type": "stream",
     "text": [
      "[[  0   1   2   3   4   5   6   7   8   9  10  11  12  13  14  15]\n",
      " [ 16  17  18  19  20  21  22  23  24  25  26  27  28  29  30  31]\n",
      " [ 32  33  34  35  36  37  38  39  40  41  42  43  44  45  46  47]\n",
      " [ 48  49  50  51  52  53  54  55  56  57  58  59  60  61  62  63]\n",
      " [ 64  65  66  67  68  69  70  71  72  73  74  75  76  77  78  79]\n",
      " [ 80  81  82  83  84  85  86  87  88  89  90  91  92  93  94  95]\n",
      " [ 96  97  98  99 100 101 102 103 104 105 106 107 108 109 110 111]\n",
      " [112 113 114 115 116 117 118 119 120 121 122 123 124 125 126 127]\n",
      " [128 129 130 131 132 133 134 135 136 137 138 139 140 141 142 143]\n",
      " [144 145 146 147 148 149 150 151 152 153 154 155 156 157 158 159]\n",
      " [160 161 162 163 164 165 166 167 168 169 170 171 172 173 174 175]\n",
      " [176 177 178 179 180 181 182 183 184 185 186 187 188 189 190 191]\n",
      " [192 193 194 195 196 197 198 199 200 201 202 203 204 205 206 207]\n",
      " [208 209 210 211 212 213 214 215 216 217 218 219 220 221 222 223]\n",
      " [224 225 226 227 228 229 230 231 232 233 234 235 236 237 238 239]\n",
      " [240 241 242 243 244 245 246 247 248 249 250 251 252 253 254 255]]\n",
      "[[ 408  472  536  600]\n",
      " [1432 1496 1560 1624]\n",
      " [2456 2520 2584 2648]\n",
      " [3480 3544 3608 3672]]\n",
      "[[ 408  472  536  600]\n",
      " [1432 1496 1560 1624]\n",
      " [2456 2520 2584 2648]\n",
      " [3480 3544 3608 3672]]\n",
      "True\n"
     ]
    }
   ],
   "source": [
    "#18. Consider a 16x16 array, how to get the block-sum (block size is 4x4)?\n",
    "\n",
    "\"\"\"This is a variant of the previous question. We do it in two different ways: summing up over sub-arrays obtained\n",
    "by slicing (v1); getting an array with every fourth row from the original array, with different offsets, and adding\n",
    "those up - think of it as a deconvolution, if you are familiar with this term (v2). Both ways give the same result.\"\"\"\n",
    "\n",
    "def sum_of_4x4_blocks_v1(a):\n",
    "    m, n = a.shape\n",
    "    return np.array([[np.sum(a[start_i:start_i+4,start_j:start_j+4])\n",
    "        for start_j in range(0, m, 4)]\n",
    "        for start_i in range(0, n, 4)])\n",
    "    return result\n",
    "\n",
    "def sum_of_4x4_blocks_v2(a):\n",
    "    m, n = a.shape\n",
    "    result = np.zeros_like(a[::4,::4])\n",
    "    for start_i in range(4):\n",
    "        for start_j in range(4):\n",
    "            result += a[start_i::4,start_j::4]\n",
    "    return result\n",
    "\n",
    "a = np.arange(16*16).reshape(16, 16)\n",
    "print(a)\n",
    "s1 = sum_of_4x4_blocks_v1(a)\n",
    "s2 = sum_of_4x4_blocks_v2(a)\n",
    "print(s1)\n",
    "print(s2)\n",
    "print(np.array_equal(s1, s2))"
   ]
  },
  {
   "cell_type": "code",
   "execution_count": 25,
   "metadata": {},
   "outputs": [
    {
     "name": "stdout",
     "output_type": "stream",
     "text": [
      "Ttest_indResult(statistic=-4.286998917325918, pvalue=3.9511073076047534e-05)\n"
     ]
    }
   ],
   "source": [
    "#19. Generate 2 random gaussian distributions and run a t-test to see differences\n",
    "\n",
    "from scipy import stats\n",
    "\n",
    "a = np.random.normal(0,1,100)\n",
    "b = np.random.normal(1,1,10)\n",
    "#print(a)\n",
    "#print(b)\n",
    "print(stats.ttest_ind(a,b))\n",
    "\n",
    "\"\"\"Returns the statistic and p-value, see\n",
    "https://docs.scipy.org/doc/scipy/reference/generated/scipy.stats.ttest_ind.html\"\"\";"
   ]
  }
 ],
 "metadata": {
  "hide_input": false,
  "kernelspec": {
   "display_name": "Python 3 (ipykernel)",
   "language": "python",
   "name": "python3"
  },
  "language_info": {
   "codemirror_mode": {
    "name": "ipython",
    "version": 3
   },
   "file_extension": ".py",
   "mimetype": "text/x-python",
   "name": "python",
   "nbconvert_exporter": "python",
   "pygments_lexer": "ipython3",
   "version": "3.9.7"
  }
 },
 "nbformat": 4,
 "nbformat_minor": 4
}
