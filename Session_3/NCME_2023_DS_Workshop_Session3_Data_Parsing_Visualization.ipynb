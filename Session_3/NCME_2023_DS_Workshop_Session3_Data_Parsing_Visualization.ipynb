{
 "cells": [
  {
   "cell_type": "markdown",
   "metadata": {},
   "source": [
    "# NCME 2022 Data Science Upskilling Workshop - Session 3\n",
    "\n",
    "# Data Wrangling\n",
    "\n",
    "Questions contact: jhao@ets.org\n"
   ]
  },
  {
   "cell_type": "markdown",
   "metadata": {
    "tags": []
   },
   "source": [
    "# Parsing unstructured data"
   ]
  },
  {
   "cell_type": "markdown",
   "metadata": {},
   "source": [
    "### step 1. load packages"
   ]
  },
  {
   "cell_type": "code",
   "execution_count": 1,
   "metadata": {},
   "outputs": [],
   "source": [
    "import pandas as pd\n",
    "import numpy as np\n",
    "from datetime import datetime"
   ]
  },
  {
   "cell_type": "markdown",
   "metadata": {},
   "source": [
    "### step 2. open the file"
   ]
  },
  {
   "cell_type": "code",
   "execution_count": 2,
   "metadata": {},
   "outputs": [],
   "source": [
    "with open('data_for_session_3/unstructured_example_log.txt') as f:\n",
    "    txt = f.readlines()"
   ]
  },
  {
   "cell_type": "code",
   "execution_count": 5,
   "metadata": {},
   "outputs": [
    {
     "data": {
      "text/plain": [
       "['[5/15/2013 2:17:26 PM] Session Start\\n',\n",
       " '[5/15/2013 2:17:26 PM] Leaving sequence: loadXML, moving forward.\\n',\n",
       " '[5/15/2013 2:17:30 PM] Player submitted name: Carl\\n',\n",
       " '[5/15/2013 2:17:30 PM] Leaving sequence: InputNameScreen, moving forward.\\n',\n",
       " '[5/15/2013 2:17:31 PM] Player submitted name: Carl\\n',\n",
       " '[5/15/2013 2:17:31 PM] Leaving sequence: startScreen, moving forward.\\n',\n",
       " '[5/15/2013 2:17:50 PM] Player submitted name: Carl\\n',\n",
       " '[5/15/2013 2:17:50 PM] Leaving sequence: slide2, moving forward.\\n',\n",
       " '[5/15/2013 2:17:55 PM] Player submitted name: Carl\\n',\n",
       " '[5/15/2013 2:17:55 PM] Leaving sequence: slide2b, moving forward.\\n',\n",
       " '[5/15/2013 2:18:34 PM] Player submitted name: Carl\\n',\n",
       " '[5/15/2013 2:18:34 PM] Leaving sequence: slide2c, moving forward.\\n',\n",
       " '[5/15/2013 2:20:09 PM] Player submitted name: Carl\\n',\n",
       " '[5/15/2013 2:20:09 PM] Leaving sequence: slide3, moving forward.\\n',\n",
       " '[5/15/2013 2:20:13 PM] Player submitted name: Carl\\n',\n",
       " '[5/15/2013 2:20:13 PM] Leaving sequence: slide4, moving forward.\\n']"
      ]
     },
     "execution_count": 5,
     "metadata": {},
     "output_type": "execute_result"
    }
   ],
   "source": [
    "txt"
   ]
  },
  {
   "cell_type": "code",
   "execution_count": 10,
   "metadata": {},
   "outputs": [
    {
     "data": {
      "text/plain": [
       "'[5/15/2013 2:17:26 PM] Session Start'"
      ]
     },
     "execution_count": 10,
     "metadata": {},
     "output_type": "execute_result"
    }
   ],
   "source": [
    "txt[0].strip()"
   ]
  },
  {
   "cell_type": "markdown",
   "metadata": {},
   "source": [
    "### step 3. clean the lines by stripping off the \\n"
   ]
  },
  {
   "cell_type": "code",
   "execution_count": 11,
   "metadata": {},
   "outputs": [],
   "source": [
    "txt = [t.strip() for t in txt]"
   ]
  },
  {
   "cell_type": "code",
   "execution_count": 15,
   "metadata": {},
   "outputs": [
    {
     "data": {
      "text/plain": [
       "'[5/15/2013 2:17:26 PM] Session Start'"
      ]
     },
     "execution_count": 15,
     "metadata": {},
     "output_type": "execute_result"
    }
   ],
   "source": [
    "txt[0]"
   ]
  },
  {
   "cell_type": "code",
   "execution_count": 20,
   "metadata": {},
   "outputs": [
    {
     "data": {
      "text/plain": [
       "'5/15/2013 2:17:26 PM'"
      ]
     },
     "execution_count": 20,
     "metadata": {},
     "output_type": "execute_result"
    }
   ],
   "source": [
    "txt[0].split(']')[0].replace('[','')"
   ]
  },
  {
   "cell_type": "markdown",
   "metadata": {
    "tags": []
   },
   "source": [
    "### step 4. chuncking and formatting"
   ]
  },
  {
   "cell_type": "code",
   "execution_count": 17,
   "metadata": {
    "tags": []
   },
   "outputs": [
    {
     "data": {
      "text/plain": [
       "'5/15/2013 2:17:26 PM'"
      ]
     },
     "execution_count": 17,
     "metadata": {},
     "output_type": "execute_result"
    }
   ],
   "source": [
    "txt[0].split(']')[0].replace('[','')"
   ]
  },
  {
   "cell_type": "code",
   "execution_count": 21,
   "metadata": {},
   "outputs": [
    {
     "data": {
      "text/plain": [
       "' Session Start'"
      ]
     },
     "execution_count": 21,
     "metadata": {},
     "output_type": "execute_result"
    }
   ],
   "source": [
    "txt[0].split(']')[1]"
   ]
  },
  {
   "cell_type": "code",
   "execution_count": 22,
   "metadata": {},
   "outputs": [
    {
     "data": {
      "text/plain": [
       "' SESSION START'"
      ]
     },
     "execution_count": 22,
     "metadata": {},
     "output_type": "execute_result"
    }
   ],
   "source": [
    "txt[0].split(']')[1].upper()"
   ]
  },
  {
   "cell_type": "markdown",
   "metadata": {
    "tags": []
   },
   "source": [
    "### step 5. datetime conversion"
   ]
  },
  {
   "cell_type": "code",
   "execution_count": 23,
   "metadata": {},
   "outputs": [],
   "source": [
    "s = txt[0].split(']')[0].strip('[')"
   ]
  },
  {
   "cell_type": "code",
   "execution_count": 24,
   "metadata": {},
   "outputs": [
    {
     "data": {
      "text/plain": [
       "'5/15/2013 2:17:26 PM'"
      ]
     },
     "execution_count": 24,
     "metadata": {},
     "output_type": "execute_result"
    }
   ],
   "source": [
    "s"
   ]
  },
  {
   "cell_type": "code",
   "execution_count": 25,
   "metadata": {},
   "outputs": [],
   "source": [
    "dtfmt ='%m/%d/%Y %I:%M:%S %p'   # %H -> 24 hours, %I-> 12 hours"
   ]
  },
  {
   "cell_type": "code",
   "execution_count": 26,
   "metadata": {},
   "outputs": [],
   "source": [
    "dt = datetime.strptime(s, dtfmt)"
   ]
  },
  {
   "cell_type": "code",
   "execution_count": 27,
   "metadata": {},
   "outputs": [
    {
     "data": {
      "text/plain": [
       "datetime.datetime(2013, 5, 15, 14, 17, 26)"
      ]
     },
     "execution_count": 27,
     "metadata": {},
     "output_type": "execute_result"
    }
   ],
   "source": [
    "dt"
   ]
  },
  {
   "cell_type": "markdown",
   "metadata": {},
   "source": [
    "### step 6. convert into a dataframe"
   ]
  },
  {
   "cell_type": "code",
   "execution_count": 29,
   "metadata": {},
   "outputs": [],
   "source": [
    "col1 = []\n",
    "col2 = []\n",
    "col3 = []"
   ]
  },
  {
   "cell_type": "code",
   "execution_count": 30,
   "metadata": {},
   "outputs": [],
   "source": [
    "for line in txt:\n",
    "    s1=line.split(']')[0].strip('[')\n",
    "    dt = datetime.strptime(s1, dtfmt)\n",
    "    col1.append(dt)\n",
    "    s= line.split(']')[1].strip().split(':')\n",
    "    col2.append(s[0])\n",
    "    if len(s) == 2:\n",
    "        col3.append(s[1])\n",
    "    else:\n",
    "        col3.append(np.nan)"
   ]
  },
  {
   "cell_type": "code",
   "execution_count": 31,
   "metadata": {},
   "outputs": [],
   "source": [
    "df = pd.DataFrame([col1,col2,col3]).T\n",
    "df.columns=['datetime','event_name', 'event_result']"
   ]
  },
  {
   "cell_type": "code",
   "execution_count": 32,
   "metadata": {},
   "outputs": [
    {
     "data": {
      "text/html": [
       "<div>\n",
       "<style scoped>\n",
       "    .dataframe tbody tr th:only-of-type {\n",
       "        vertical-align: middle;\n",
       "    }\n",
       "\n",
       "    .dataframe tbody tr th {\n",
       "        vertical-align: top;\n",
       "    }\n",
       "\n",
       "    .dataframe thead th {\n",
       "        text-align: right;\n",
       "    }\n",
       "</style>\n",
       "<table border=\"1\" class=\"dataframe\">\n",
       "  <thead>\n",
       "    <tr style=\"text-align: right;\">\n",
       "      <th></th>\n",
       "      <th>datetime</th>\n",
       "      <th>event_name</th>\n",
       "      <th>event_result</th>\n",
       "    </tr>\n",
       "  </thead>\n",
       "  <tbody>\n",
       "    <tr>\n",
       "      <th>0</th>\n",
       "      <td>2013-05-15 14:17:26</td>\n",
       "      <td>Session Start</td>\n",
       "      <td>NaN</td>\n",
       "    </tr>\n",
       "    <tr>\n",
       "      <th>1</th>\n",
       "      <td>2013-05-15 14:17:26</td>\n",
       "      <td>Leaving sequence</td>\n",
       "      <td>loadXML, moving forward.</td>\n",
       "    </tr>\n",
       "    <tr>\n",
       "      <th>2</th>\n",
       "      <td>2013-05-15 14:17:30</td>\n",
       "      <td>Player submitted name</td>\n",
       "      <td>Carl</td>\n",
       "    </tr>\n",
       "    <tr>\n",
       "      <th>3</th>\n",
       "      <td>2013-05-15 14:17:30</td>\n",
       "      <td>Leaving sequence</td>\n",
       "      <td>InputNameScreen, moving forward.</td>\n",
       "    </tr>\n",
       "    <tr>\n",
       "      <th>4</th>\n",
       "      <td>2013-05-15 14:17:31</td>\n",
       "      <td>Player submitted name</td>\n",
       "      <td>Carl</td>\n",
       "    </tr>\n",
       "    <tr>\n",
       "      <th>5</th>\n",
       "      <td>2013-05-15 14:17:31</td>\n",
       "      <td>Leaving sequence</td>\n",
       "      <td>startScreen, moving forward.</td>\n",
       "    </tr>\n",
       "    <tr>\n",
       "      <th>6</th>\n",
       "      <td>2013-05-15 14:17:50</td>\n",
       "      <td>Player submitted name</td>\n",
       "      <td>Carl</td>\n",
       "    </tr>\n",
       "    <tr>\n",
       "      <th>7</th>\n",
       "      <td>2013-05-15 14:17:50</td>\n",
       "      <td>Leaving sequence</td>\n",
       "      <td>slide2, moving forward.</td>\n",
       "    </tr>\n",
       "    <tr>\n",
       "      <th>8</th>\n",
       "      <td>2013-05-15 14:17:55</td>\n",
       "      <td>Player submitted name</td>\n",
       "      <td>Carl</td>\n",
       "    </tr>\n",
       "    <tr>\n",
       "      <th>9</th>\n",
       "      <td>2013-05-15 14:17:55</td>\n",
       "      <td>Leaving sequence</td>\n",
       "      <td>slide2b, moving forward.</td>\n",
       "    </tr>\n",
       "    <tr>\n",
       "      <th>10</th>\n",
       "      <td>2013-05-15 14:18:34</td>\n",
       "      <td>Player submitted name</td>\n",
       "      <td>Carl</td>\n",
       "    </tr>\n",
       "    <tr>\n",
       "      <th>11</th>\n",
       "      <td>2013-05-15 14:18:34</td>\n",
       "      <td>Leaving sequence</td>\n",
       "      <td>slide2c, moving forward.</td>\n",
       "    </tr>\n",
       "    <tr>\n",
       "      <th>12</th>\n",
       "      <td>2013-05-15 14:20:09</td>\n",
       "      <td>Player submitted name</td>\n",
       "      <td>Carl</td>\n",
       "    </tr>\n",
       "    <tr>\n",
       "      <th>13</th>\n",
       "      <td>2013-05-15 14:20:09</td>\n",
       "      <td>Leaving sequence</td>\n",
       "      <td>slide3, moving forward.</td>\n",
       "    </tr>\n",
       "    <tr>\n",
       "      <th>14</th>\n",
       "      <td>2013-05-15 14:20:13</td>\n",
       "      <td>Player submitted name</td>\n",
       "      <td>Carl</td>\n",
       "    </tr>\n",
       "    <tr>\n",
       "      <th>15</th>\n",
       "      <td>2013-05-15 14:20:13</td>\n",
       "      <td>Leaving sequence</td>\n",
       "      <td>slide4, moving forward.</td>\n",
       "    </tr>\n",
       "  </tbody>\n",
       "</table>\n",
       "</div>"
      ],
      "text/plain": [
       "              datetime             event_name  \\\n",
       "0  2013-05-15 14:17:26          Session Start   \n",
       "1  2013-05-15 14:17:26       Leaving sequence   \n",
       "2  2013-05-15 14:17:30  Player submitted name   \n",
       "3  2013-05-15 14:17:30       Leaving sequence   \n",
       "4  2013-05-15 14:17:31  Player submitted name   \n",
       "5  2013-05-15 14:17:31       Leaving sequence   \n",
       "6  2013-05-15 14:17:50  Player submitted name   \n",
       "7  2013-05-15 14:17:50       Leaving sequence   \n",
       "8  2013-05-15 14:17:55  Player submitted name   \n",
       "9  2013-05-15 14:17:55       Leaving sequence   \n",
       "10 2013-05-15 14:18:34  Player submitted name   \n",
       "11 2013-05-15 14:18:34       Leaving sequence   \n",
       "12 2013-05-15 14:20:09  Player submitted name   \n",
       "13 2013-05-15 14:20:09       Leaving sequence   \n",
       "14 2013-05-15 14:20:13  Player submitted name   \n",
       "15 2013-05-15 14:20:13       Leaving sequence   \n",
       "\n",
       "                         event_result  \n",
       "0                                 NaN  \n",
       "1            loadXML, moving forward.  \n",
       "2                                Carl  \n",
       "3    InputNameScreen, moving forward.  \n",
       "4                                Carl  \n",
       "5        startScreen, moving forward.  \n",
       "6                                Carl  \n",
       "7             slide2, moving forward.  \n",
       "8                                Carl  \n",
       "9            slide2b, moving forward.  \n",
       "10                               Carl  \n",
       "11           slide2c, moving forward.  \n",
       "12                               Carl  \n",
       "13            slide3, moving forward.  \n",
       "14                               Carl  \n",
       "15            slide4, moving forward.  "
      ]
     },
     "execution_count": 32,
     "metadata": {},
     "output_type": "execute_result"
    }
   ],
   "source": [
    "df"
   ]
  },
  {
   "cell_type": "code",
   "execution_count": 35,
   "metadata": {},
   "outputs": [
    {
     "data": {
      "text/plain": [
       "0    0 days 00:00:00\n",
       "1    0 days 00:00:00\n",
       "2    0 days 00:00:04\n",
       "3    0 days 00:00:04\n",
       "4    0 days 00:00:05\n",
       "5    0 days 00:00:05\n",
       "6    0 days 00:00:24\n",
       "7    0 days 00:00:24\n",
       "8    0 days 00:00:29\n",
       "9    0 days 00:00:29\n",
       "10   0 days 00:01:08\n",
       "11   0 days 00:01:08\n",
       "12   0 days 00:02:43\n",
       "13   0 days 00:02:43\n",
       "14   0 days 00:02:47\n",
       "15   0 days 00:02:47\n",
       "Name: datetime, dtype: timedelta64[ns]"
      ]
     },
     "execution_count": 35,
     "metadata": {},
     "output_type": "execute_result"
    }
   ],
   "source": [
    "df.datetime - df.datetime.iloc[0]"
   ]
  },
  {
   "cell_type": "markdown",
   "metadata": {},
   "source": [
    "### step 7. convert to seconds"
   ]
  },
  {
   "cell_type": "code",
   "execution_count": 36,
   "metadata": {},
   "outputs": [
    {
     "data": {
      "text/plain": [
       "0       0.0\n",
       "1       0.0\n",
       "2       4.0\n",
       "3       4.0\n",
       "4       5.0\n",
       "5       5.0\n",
       "6      24.0\n",
       "7      24.0\n",
       "8      29.0\n",
       "9      29.0\n",
       "10     68.0\n",
       "11     68.0\n",
       "12    163.0\n",
       "13    163.0\n",
       "14    167.0\n",
       "15    167.0\n",
       "Name: datetime, dtype: float64"
      ]
     },
     "execution_count": 36,
     "metadata": {},
     "output_type": "execute_result"
    }
   ],
   "source": [
    "(df.datetime-df.datetime.loc[0]).apply(lambda x: x.total_seconds())"
   ]
  },
  {
   "cell_type": "code",
   "execution_count": 37,
   "metadata": {},
   "outputs": [],
   "source": [
    "df['time_seconds'] = (df.datetime-df.datetime.loc[0]).apply(lambda x: x.total_seconds())"
   ]
  },
  {
   "cell_type": "code",
   "execution_count": 38,
   "metadata": {},
   "outputs": [
    {
     "data": {
      "text/html": [
       "<div>\n",
       "<style scoped>\n",
       "    .dataframe tbody tr th:only-of-type {\n",
       "        vertical-align: middle;\n",
       "    }\n",
       "\n",
       "    .dataframe tbody tr th {\n",
       "        vertical-align: top;\n",
       "    }\n",
       "\n",
       "    .dataframe thead th {\n",
       "        text-align: right;\n",
       "    }\n",
       "</style>\n",
       "<table border=\"1\" class=\"dataframe\">\n",
       "  <thead>\n",
       "    <tr style=\"text-align: right;\">\n",
       "      <th></th>\n",
       "      <th>datetime</th>\n",
       "      <th>event_name</th>\n",
       "      <th>event_result</th>\n",
       "      <th>time_seconds</th>\n",
       "    </tr>\n",
       "  </thead>\n",
       "  <tbody>\n",
       "    <tr>\n",
       "      <th>0</th>\n",
       "      <td>2013-05-15 14:17:26</td>\n",
       "      <td>Session Start</td>\n",
       "      <td>NaN</td>\n",
       "      <td>0.0</td>\n",
       "    </tr>\n",
       "    <tr>\n",
       "      <th>1</th>\n",
       "      <td>2013-05-15 14:17:26</td>\n",
       "      <td>Leaving sequence</td>\n",
       "      <td>loadXML, moving forward.</td>\n",
       "      <td>0.0</td>\n",
       "    </tr>\n",
       "    <tr>\n",
       "      <th>2</th>\n",
       "      <td>2013-05-15 14:17:30</td>\n",
       "      <td>Player submitted name</td>\n",
       "      <td>Carl</td>\n",
       "      <td>4.0</td>\n",
       "    </tr>\n",
       "    <tr>\n",
       "      <th>3</th>\n",
       "      <td>2013-05-15 14:17:30</td>\n",
       "      <td>Leaving sequence</td>\n",
       "      <td>InputNameScreen, moving forward.</td>\n",
       "      <td>4.0</td>\n",
       "    </tr>\n",
       "    <tr>\n",
       "      <th>4</th>\n",
       "      <td>2013-05-15 14:17:31</td>\n",
       "      <td>Player submitted name</td>\n",
       "      <td>Carl</td>\n",
       "      <td>5.0</td>\n",
       "    </tr>\n",
       "    <tr>\n",
       "      <th>5</th>\n",
       "      <td>2013-05-15 14:17:31</td>\n",
       "      <td>Leaving sequence</td>\n",
       "      <td>startScreen, moving forward.</td>\n",
       "      <td>5.0</td>\n",
       "    </tr>\n",
       "    <tr>\n",
       "      <th>6</th>\n",
       "      <td>2013-05-15 14:17:50</td>\n",
       "      <td>Player submitted name</td>\n",
       "      <td>Carl</td>\n",
       "      <td>24.0</td>\n",
       "    </tr>\n",
       "    <tr>\n",
       "      <th>7</th>\n",
       "      <td>2013-05-15 14:17:50</td>\n",
       "      <td>Leaving sequence</td>\n",
       "      <td>slide2, moving forward.</td>\n",
       "      <td>24.0</td>\n",
       "    </tr>\n",
       "    <tr>\n",
       "      <th>8</th>\n",
       "      <td>2013-05-15 14:17:55</td>\n",
       "      <td>Player submitted name</td>\n",
       "      <td>Carl</td>\n",
       "      <td>29.0</td>\n",
       "    </tr>\n",
       "    <tr>\n",
       "      <th>9</th>\n",
       "      <td>2013-05-15 14:17:55</td>\n",
       "      <td>Leaving sequence</td>\n",
       "      <td>slide2b, moving forward.</td>\n",
       "      <td>29.0</td>\n",
       "    </tr>\n",
       "    <tr>\n",
       "      <th>10</th>\n",
       "      <td>2013-05-15 14:18:34</td>\n",
       "      <td>Player submitted name</td>\n",
       "      <td>Carl</td>\n",
       "      <td>68.0</td>\n",
       "    </tr>\n",
       "    <tr>\n",
       "      <th>11</th>\n",
       "      <td>2013-05-15 14:18:34</td>\n",
       "      <td>Leaving sequence</td>\n",
       "      <td>slide2c, moving forward.</td>\n",
       "      <td>68.0</td>\n",
       "    </tr>\n",
       "    <tr>\n",
       "      <th>12</th>\n",
       "      <td>2013-05-15 14:20:09</td>\n",
       "      <td>Player submitted name</td>\n",
       "      <td>Carl</td>\n",
       "      <td>163.0</td>\n",
       "    </tr>\n",
       "    <tr>\n",
       "      <th>13</th>\n",
       "      <td>2013-05-15 14:20:09</td>\n",
       "      <td>Leaving sequence</td>\n",
       "      <td>slide3, moving forward.</td>\n",
       "      <td>163.0</td>\n",
       "    </tr>\n",
       "    <tr>\n",
       "      <th>14</th>\n",
       "      <td>2013-05-15 14:20:13</td>\n",
       "      <td>Player submitted name</td>\n",
       "      <td>Carl</td>\n",
       "      <td>167.0</td>\n",
       "    </tr>\n",
       "    <tr>\n",
       "      <th>15</th>\n",
       "      <td>2013-05-15 14:20:13</td>\n",
       "      <td>Leaving sequence</td>\n",
       "      <td>slide4, moving forward.</td>\n",
       "      <td>167.0</td>\n",
       "    </tr>\n",
       "  </tbody>\n",
       "</table>\n",
       "</div>"
      ],
      "text/plain": [
       "              datetime             event_name  \\\n",
       "0  2013-05-15 14:17:26          Session Start   \n",
       "1  2013-05-15 14:17:26       Leaving sequence   \n",
       "2  2013-05-15 14:17:30  Player submitted name   \n",
       "3  2013-05-15 14:17:30       Leaving sequence   \n",
       "4  2013-05-15 14:17:31  Player submitted name   \n",
       "5  2013-05-15 14:17:31       Leaving sequence   \n",
       "6  2013-05-15 14:17:50  Player submitted name   \n",
       "7  2013-05-15 14:17:50       Leaving sequence   \n",
       "8  2013-05-15 14:17:55  Player submitted name   \n",
       "9  2013-05-15 14:17:55       Leaving sequence   \n",
       "10 2013-05-15 14:18:34  Player submitted name   \n",
       "11 2013-05-15 14:18:34       Leaving sequence   \n",
       "12 2013-05-15 14:20:09  Player submitted name   \n",
       "13 2013-05-15 14:20:09       Leaving sequence   \n",
       "14 2013-05-15 14:20:13  Player submitted name   \n",
       "15 2013-05-15 14:20:13       Leaving sequence   \n",
       "\n",
       "                         event_result  time_seconds  \n",
       "0                                 NaN           0.0  \n",
       "1            loadXML, moving forward.           0.0  \n",
       "2                                Carl           4.0  \n",
       "3    InputNameScreen, moving forward.           4.0  \n",
       "4                                Carl           5.0  \n",
       "5        startScreen, moving forward.           5.0  \n",
       "6                                Carl          24.0  \n",
       "7             slide2, moving forward.          24.0  \n",
       "8                                Carl          29.0  \n",
       "9            slide2b, moving forward.          29.0  \n",
       "10                               Carl          68.0  \n",
       "11           slide2c, moving forward.          68.0  \n",
       "12                               Carl         163.0  \n",
       "13            slide3, moving forward.         163.0  \n",
       "14                               Carl         167.0  \n",
       "15            slide4, moving forward.         167.0  "
      ]
     },
     "execution_count": 38,
     "metadata": {},
     "output_type": "execute_result"
    }
   ],
   "source": [
    "df"
   ]
  },
  {
   "cell_type": "markdown",
   "metadata": {},
   "source": [
    "## Parsing JSON file"
   ]
  },
  {
   "cell_type": "markdown",
   "metadata": {},
   "source": [
    "### Step 1. Loading the needed packages"
   ]
  },
  {
   "cell_type": "code",
   "execution_count": 39,
   "metadata": {},
   "outputs": [],
   "source": [
    "import pandas as pd\n",
    "import json\n",
    "from datetime import datetime"
   ]
  },
  {
   "cell_type": "markdown",
   "metadata": {},
   "source": [
    "### Step 2. Open the unstructured data file and read it into a Python dictionary"
   ]
  },
  {
   "cell_type": "code",
   "execution_count": 40,
   "metadata": {},
   "outputs": [],
   "source": [
    "with open('data_for_session_3/structured_example_log.json') as f:\n",
    "    txt = json.load(f)"
   ]
  },
  {
   "cell_type": "code",
   "execution_count": 48,
   "metadata": {},
   "outputs": [
    {
     "data": {
      "text/html": [
       "<div>\n",
       "<style scoped>\n",
       "    .dataframe tbody tr th:only-of-type {\n",
       "        vertical-align: middle;\n",
       "    }\n",
       "\n",
       "    .dataframe tbody tr th {\n",
       "        vertical-align: top;\n",
       "    }\n",
       "\n",
       "    .dataframe thead th {\n",
       "        text-align: right;\n",
       "    }\n",
       "</style>\n",
       "<table border=\"1\" class=\"dataframe\">\n",
       "  <thead>\n",
       "    <tr style=\"text-align: right;\">\n",
       "      <th></th>\n",
       "      <th>session_time</th>\n",
       "      <th>event_name</th>\n",
       "      <th>event_attribute</th>\n",
       "    </tr>\n",
       "  </thead>\n",
       "  <tbody>\n",
       "    <tr>\n",
       "      <th>0</th>\n",
       "      <td>2013-05-15 14:17:26</td>\n",
       "      <td>Session Start</td>\n",
       "      <td>NaN</td>\n",
       "    </tr>\n",
       "    <tr>\n",
       "      <th>1</th>\n",
       "      <td>2013-05-15 14:17:26</td>\n",
       "      <td>Leaving sequence</td>\n",
       "      <td>loadXML, moving forward.</td>\n",
       "    </tr>\n",
       "    <tr>\n",
       "      <th>2</th>\n",
       "      <td>2013-05-15 14:17:30</td>\n",
       "      <td>Player submitted name</td>\n",
       "      <td>Carl</td>\n",
       "    </tr>\n",
       "    <tr>\n",
       "      <th>3</th>\n",
       "      <td>2013-05-15 14:17:30</td>\n",
       "      <td>Leaving sequence</td>\n",
       "      <td>InputNameScreen, moving forward.</td>\n",
       "    </tr>\n",
       "    <tr>\n",
       "      <th>4</th>\n",
       "      <td>2013-05-15 14:17:31</td>\n",
       "      <td>Player submitted name</td>\n",
       "      <td>Carl</td>\n",
       "    </tr>\n",
       "    <tr>\n",
       "      <th>5</th>\n",
       "      <td>2013-05-15 14:17:31</td>\n",
       "      <td>Leaving sequence</td>\n",
       "      <td>startScreen, moving forward.</td>\n",
       "    </tr>\n",
       "    <tr>\n",
       "      <th>6</th>\n",
       "      <td>2013-05-15 14:17:50</td>\n",
       "      <td>Player submitted name</td>\n",
       "      <td>Carl</td>\n",
       "    </tr>\n",
       "    <tr>\n",
       "      <th>7</th>\n",
       "      <td>2013-05-15 14:17:50</td>\n",
       "      <td>Leaving sequence</td>\n",
       "      <td>slide2, moving forward.</td>\n",
       "    </tr>\n",
       "    <tr>\n",
       "      <th>8</th>\n",
       "      <td>2013-05-15 14:17:55</td>\n",
       "      <td>Player submitted name</td>\n",
       "      <td>Carl</td>\n",
       "    </tr>\n",
       "    <tr>\n",
       "      <th>9</th>\n",
       "      <td>2013-05-15 14:17:55</td>\n",
       "      <td>Leaving sequence</td>\n",
       "      <td>slide2b, moving forward.</td>\n",
       "    </tr>\n",
       "    <tr>\n",
       "      <th>10</th>\n",
       "      <td>2013-05-15 14:18:34</td>\n",
       "      <td>Player submitted name</td>\n",
       "      <td>Carl</td>\n",
       "    </tr>\n",
       "    <tr>\n",
       "      <th>11</th>\n",
       "      <td>2013-05-15 14:18:34</td>\n",
       "      <td>Leaving sequence</td>\n",
       "      <td>slide2c, moving forward.</td>\n",
       "    </tr>\n",
       "    <tr>\n",
       "      <th>12</th>\n",
       "      <td>2013-05-15 14:20:09</td>\n",
       "      <td>Player submitted name</td>\n",
       "      <td>Carl</td>\n",
       "    </tr>\n",
       "    <tr>\n",
       "      <th>13</th>\n",
       "      <td>2013-05-15 14:20:09</td>\n",
       "      <td>Leaving sequence</td>\n",
       "      <td>slide3, moving forward.</td>\n",
       "    </tr>\n",
       "    <tr>\n",
       "      <th>14</th>\n",
       "      <td>2013-05-15 14:20:13</td>\n",
       "      <td>Player submitted name</td>\n",
       "      <td>Carl</td>\n",
       "    </tr>\n",
       "    <tr>\n",
       "      <th>15</th>\n",
       "      <td>2013-05-15 14:20:13</td>\n",
       "      <td>Leaving sequence</td>\n",
       "      <td>slide4, moving forward.</td>\n",
       "    </tr>\n",
       "  </tbody>\n",
       "</table>\n",
       "</div>"
      ],
      "text/plain": [
       "           session_time             event_name  \\\n",
       "0   2013-05-15 14:17:26          Session Start   \n",
       "1   2013-05-15 14:17:26       Leaving sequence   \n",
       "2   2013-05-15 14:17:30  Player submitted name   \n",
       "3   2013-05-15 14:17:30       Leaving sequence   \n",
       "4   2013-05-15 14:17:31  Player submitted name   \n",
       "5   2013-05-15 14:17:31       Leaving sequence   \n",
       "6   2013-05-15 14:17:50  Player submitted name   \n",
       "7   2013-05-15 14:17:50       Leaving sequence   \n",
       "8   2013-05-15 14:17:55  Player submitted name   \n",
       "9   2013-05-15 14:17:55       Leaving sequence   \n",
       "10  2013-05-15 14:18:34  Player submitted name   \n",
       "11  2013-05-15 14:18:34       Leaving sequence   \n",
       "12  2013-05-15 14:20:09  Player submitted name   \n",
       "13  2013-05-15 14:20:09       Leaving sequence   \n",
       "14  2013-05-15 14:20:13  Player submitted name   \n",
       "15  2013-05-15 14:20:13       Leaving sequence   \n",
       "\n",
       "                     event_attribute  \n",
       "0                                NaN  \n",
       "1           loadXML, moving forward.  \n",
       "2                               Carl  \n",
       "3   InputNameScreen, moving forward.  \n",
       "4                               Carl  \n",
       "5       startScreen, moving forward.  \n",
       "6                               Carl  \n",
       "7            slide2, moving forward.  \n",
       "8                               Carl  \n",
       "9           slide2b, moving forward.  \n",
       "10                              Carl  \n",
       "11          slide2c, moving forward.  \n",
       "12                              Carl  \n",
       "13           slide3, moving forward.  \n",
       "14                              Carl  \n",
       "15           slide4, moving forward.  "
      ]
     },
     "execution_count": 48,
     "metadata": {},
     "output_type": "execute_result"
    }
   ],
   "source": [
    "pd.DataFrame(txt.get('data'))"
   ]
  },
  {
   "cell_type": "markdown",
   "metadata": {},
   "source": [
    "### Step 3. Convert a list of dictionaries to data frame"
   ]
  },
  {
   "cell_type": "code",
   "execution_count": null,
   "metadata": {},
   "outputs": [],
   "source": [
    "pd.DataFrame(txt.get('data'))"
   ]
  },
  {
   "cell_type": "markdown",
   "metadata": {},
   "source": [
    "## Parsing XML file"
   ]
  },
  {
   "cell_type": "markdown",
   "metadata": {},
   "source": [
    "### Step 1. Load needed packages"
   ]
  },
  {
   "cell_type": "code",
   "execution_count": 49,
   "metadata": {},
   "outputs": [],
   "source": [
    "import xml.etree.ElementTree as et  # package for xml parsing"
   ]
  },
  {
   "cell_type": "markdown",
   "metadata": {},
   "source": [
    "### Step 2. Specify XML file name"
   ]
  },
  {
   "cell_type": "code",
   "execution_count": 50,
   "metadata": {},
   "outputs": [],
   "source": [
    "xml_file_name = 'data_for_session_3/structured_example_log.xml'  # note that this xml is structured to comply with ETS' VPA data model"
   ]
  },
  {
   "cell_type": "markdown",
   "metadata": {},
   "source": [
    "### Step 3. Parsing the xml tree"
   ]
  },
  {
   "cell_type": "code",
   "execution_count": 51,
   "metadata": {},
   "outputs": [],
   "source": [
    "tree = et.parse(xml_file_name)\n",
    "root = tree.getroot()"
   ]
  },
  {
   "cell_type": "code",
   "execution_count": 52,
   "metadata": {},
   "outputs": [
    {
     "data": {
      "text/plain": [
       "<Element 'gameLog' at 0x183c39810>"
      ]
     },
     "execution_count": 52,
     "metadata": {},
     "output_type": "execute_result"
    }
   ],
   "source": [
    "root"
   ]
  },
  {
   "cell_type": "code",
   "execution_count": 53,
   "metadata": {},
   "outputs": [
    {
     "data": {
      "text/plain": [
       "1"
      ]
     },
     "execution_count": 53,
     "metadata": {},
     "output_type": "execute_result"
    }
   ],
   "source": [
    "# check how many child \n",
    "len(root)"
   ]
  },
  {
   "cell_type": "code",
   "execution_count": 54,
   "metadata": {},
   "outputs": [
    {
     "data": {
      "text/plain": [
       "<Element 'session' at 0x183c39e50>"
      ]
     },
     "execution_count": 54,
     "metadata": {},
     "output_type": "execute_result"
    }
   ],
   "source": [
    "root[0]"
   ]
  },
  {
   "cell_type": "code",
   "execution_count": 55,
   "metadata": {},
   "outputs": [
    {
     "name": "stdout",
     "output_type": "stream",
     "text": [
      "sessionID , 7369 , 0\n",
      "teamID , hao_jiangang , 0\n",
      "playerID , None , 4\n",
      "attemptID , 17 , 0\n",
      "sessionExtData , None , 5\n",
      "eventSequence , None , 45\n"
     ]
    }
   ],
   "source": [
    "# find out the child of the root and the number of grandchild\n",
    "for chd in root[0]:\n",
    "    print(chd.tag,',',chd.text, ',',len(chd))"
   ]
  },
  {
   "cell_type": "code",
   "execution_count": 56,
   "metadata": {},
   "outputs": [
    {
     "data": {
      "text/plain": [
       "<Element 'playerID' at 0x183cab220>"
      ]
     },
     "execution_count": 56,
     "metadata": {},
     "output_type": "execute_result"
    }
   ],
   "source": [
    "# check the playerID child \n",
    "root[0][2]"
   ]
  },
  {
   "cell_type": "code",
   "execution_count": 57,
   "metadata": {},
   "outputs": [
    {
     "name": "stdout",
     "output_type": "stream",
     "text": [
      "pair , None , 2\n",
      "pair , None , 2\n",
      "pair , None , 2\n",
      "pair , None , 2\n"
     ]
    }
   ],
   "source": [
    "# check the child of playerID\n",
    "for chd in root[0][2]:\n",
    "    print(chd.tag,',',chd.text, ',',len(chd))"
   ]
  },
  {
   "cell_type": "code",
   "execution_count": 59,
   "metadata": {},
   "outputs": [
    {
     "data": {
      "text/plain": [
       "<Element 'pair' at 0x183cab270>"
      ]
     },
     "execution_count": 59,
     "metadata": {},
     "output_type": "execute_result"
    }
   ],
   "source": [
    "# check the child of the child of playerID\n",
    "root[0][2][0]"
   ]
  },
  {
   "cell_type": "code",
   "execution_count": 61,
   "metadata": {},
   "outputs": [
    {
     "data": {
      "text/plain": [
       "<Element 'eventSequence' at 0x183cabbd0>"
      ]
     },
     "execution_count": 61,
     "metadata": {},
     "output_type": "execute_result"
    }
   ],
   "source": [
    "# check the eventSequence child\n",
    "root[0][5]"
   ]
  },
  {
   "cell_type": "code",
   "execution_count": 62,
   "metadata": {},
   "outputs": [
    {
     "name": "stdout",
     "output_type": "stream",
     "text": [
      "event , None , 7\n",
      "event , None , 8\n",
      "event , None , 8\n",
      "event , None , 7\n",
      "event , None , 7\n",
      "event , None , 7\n",
      "event , None , 7\n",
      "event , None , 8\n",
      "event , None , 8\n",
      "event , None , 7\n",
      "event , None , 7\n",
      "event , None , 8\n",
      "event , None , 8\n",
      "event , None , 8\n",
      "event , None , 8\n",
      "event , None , 7\n",
      "event , None , 8\n",
      "event , None , 8\n",
      "event , None , 8\n",
      "event , None , 8\n",
      "event , None , 8\n",
      "event , None , 8\n",
      "event , None , 8\n",
      "event , None , 8\n",
      "event , None , 7\n",
      "event , None , 7\n",
      "event , None , 7\n",
      "event , None , 7\n",
      "event , None , 7\n",
      "event , None , 7\n",
      "event , None , 7\n",
      "event , None , 7\n",
      "event , None , 7\n",
      "event , None , 7\n",
      "event , None , 7\n",
      "event , None , 8\n",
      "event , None , 8\n",
      "event , None , 8\n",
      "event , None , 8\n",
      "event , None , 8\n",
      "event , None , 8\n",
      "event , None , 8\n",
      "event , None , 8\n",
      "event , None , 8\n",
      "event , None , 8\n"
     ]
    }
   ],
   "source": [
    "for chd in root[0][5]:\n",
    "    print(chd.tag,',',chd.text, ',',len(chd))"
   ]
  },
  {
   "cell_type": "code",
   "execution_count": 63,
   "metadata": {},
   "outputs": [
    {
     "data": {
      "text/plain": [
       "<Element 'event' at 0x183cabc20>"
      ]
     },
     "execution_count": 63,
     "metadata": {},
     "output_type": "execute_result"
    }
   ],
   "source": [
    "# check the first event\n",
    "root[0][5][0]"
   ]
  },
  {
   "cell_type": "code",
   "execution_count": 64,
   "metadata": {},
   "outputs": [
    {
     "name": "stdout",
     "output_type": "stream",
     "text": [
      "eventName , chat , 0\n",
      "eventStartTime , 2019-11-06T14:18:31Z , 0\n",
      "eventEndTime , 2019-11-06T14:18:31Z , 0\n",
      "eventBy , jiangang , 0\n",
      "eventTo , others , 0\n",
      "eventResult , hi , 0\n",
      "eventLocation , slide1-step0 , 0\n"
     ]
    }
   ],
   "source": [
    "for chd in root[0][5][0]:\n",
    "    print(chd.tag,',',chd.text, ',',len(chd))"
   ]
  },
  {
   "cell_type": "markdown",
   "metadata": {},
   "source": [
    "## The above codes show how you reach out to each leaf in the XML tree. You can put them together into a dataframe. "
   ]
  },
  {
   "cell_type": "markdown",
   "metadata": {},
   "source": [
    "## Visualization - Plotly express"
   ]
  },
  {
   "cell_type": "code",
   "execution_count": null,
   "metadata": {},
   "outputs": [],
   "source": [
    "import plotly.express as px\n",
    "#import pandas as pd"
   ]
  },
  {
   "cell_type": "code",
   "execution_count": null,
   "metadata": {},
   "outputs": [],
   "source": [
    "# load data \n",
    "df = px.data.iris()"
   ]
  },
  {
   "cell_type": "code",
   "execution_count": null,
   "metadata": {},
   "outputs": [],
   "source": [
    "df"
   ]
  },
  {
   "cell_type": "code",
   "execution_count": null,
   "metadata": {},
   "outputs": [],
   "source": [
    "# scatter plot\n",
    "\n",
    "px.scatter(df, x=\"sepal_width\", y=\"sepal_length\", color=\"species\", size='species_id')"
   ]
  },
  {
   "cell_type": "code",
   "execution_count": null,
   "metadata": {},
   "outputs": [],
   "source": [
    "# scatter plot 3D\n",
    "px.scatter_3d(df, x=\"sepal_width\", y=\"sepal_length\", z=\"petal_length\",color=\"species\", size='species_id')"
   ]
  },
  {
   "cell_type": "code",
   "execution_count": null,
   "metadata": {},
   "outputs": [],
   "source": [
    "# distribution\n",
    "px.histogram(df,x='sepal_length',color='species')"
   ]
  },
  {
   "cell_type": "code",
   "execution_count": null,
   "metadata": {},
   "outputs": [],
   "source": [
    "# distribution in facets\n",
    "px.histogram(df,x='sepal_length',color='species',facet_col='species')"
   ]
  },
  {
   "cell_type": "code",
   "execution_count": null,
   "metadata": {},
   "outputs": [],
   "source": [
    "# barplot\n",
    "\n",
    "px.bar(df, y='sepal_length',color='species',facet_row='species')"
   ]
  },
  {
   "cell_type": "code",
   "execution_count": null,
   "metadata": {},
   "outputs": [],
   "source": [
    "# scatter plot with trend line and marginalization\n",
    "\n",
    "px.scatter(df, x=\"sepal_width\", y=\"sepal_length\", color=\"species\", marginal_y=\"violin\", \\\n",
    "           marginal_x=\"box\", trendline=\"ols\")"
   ]
  },
  {
   "cell_type": "code",
   "execution_count": null,
   "metadata": {},
   "outputs": [],
   "source": [
    "# scatter matrix\n",
    "\n",
    "px.scatter_matrix(df, dimensions=[\"sepal_width\", \"sepal_length\", \"petal_width\", \"petal_length\"], color=\"species\")"
   ]
  },
  {
   "cell_type": "code",
   "execution_count": null,
   "metadata": {},
   "outputs": [],
   "source": [
    "# animation - using a different dataset\n",
    "\n",
    "df = px.data.gapminder()"
   ]
  },
  {
   "cell_type": "code",
   "execution_count": null,
   "metadata": {},
   "outputs": [],
   "source": [
    "df.head()"
   ]
  },
  {
   "cell_type": "code",
   "execution_count": null,
   "metadata": {},
   "outputs": [],
   "source": [
    "px.scatter(df.query(\"year==2007\"), x=\"gdpPercap\", y=\"lifeExp\", size=\"pop\", color=\"continent\",\n",
    "           hover_name=\"country\", log_x=True, size_max=60)"
   ]
  },
  {
   "cell_type": "code",
   "execution_count": null,
   "metadata": {},
   "outputs": [],
   "source": [
    "px.scatter(df, x=\"gdpPercap\", y=\"lifeExp\", size=\"pop\", color=\"continent\",\n",
    "           hover_name=\"country\", log_x=True, size_max=60,animation_frame='year',range_y=[20,100])\n"
   ]
  },
  {
   "cell_type": "markdown",
   "metadata": {},
   "source": [
    "## Ipywidgets for interaction"
   ]
  },
  {
   "cell_type": "code",
   "execution_count": null,
   "metadata": {},
   "outputs": [],
   "source": [
    "from ipywidgets import interact, fixed, widgets\n",
    "from IPython.display import display"
   ]
  },
  {
   "cell_type": "code",
   "execution_count": null,
   "metadata": {},
   "outputs": [],
   "source": [
    "# let's use the GDP data, but you want to choose the contenient\n",
    "\n",
    "def continent_gdp(df,conti):\n",
    "    return px.scatter(df.query('continent==@conti'), x=\"gdpPercap\", y=\"lifeExp\", size=\"pop\", color=\"country\",\n",
    "           hover_name=\"country\", log_x=True, size_max=60,animation_frame='year',range_y=[20,100])\n"
   ]
  },
  {
   "cell_type": "code",
   "execution_count": null,
   "metadata": {},
   "outputs": [],
   "source": [
    "continent_list = df.continent.unique().tolist()"
   ]
  },
  {
   "cell_type": "code",
   "execution_count": null,
   "metadata": {},
   "outputs": [],
   "source": [
    "continent_list"
   ]
  },
  {
   "cell_type": "code",
   "execution_count": null,
   "metadata": {},
   "outputs": [],
   "source": [
    "result = interact(continent_gdp, df=fixed(df), conti=continent_list)"
   ]
  },
  {
   "cell_type": "markdown",
   "metadata": {},
   "source": [
    "### Some other widgets"
   ]
  },
  {
   "cell_type": "code",
   "execution_count": null,
   "metadata": {},
   "outputs": [],
   "source": [
    "w = widgets.IntSlider()\n",
    "display(w)"
   ]
  },
  {
   "cell_type": "code",
   "execution_count": null,
   "metadata": {},
   "outputs": [],
   "source": [
    "w.value"
   ]
  },
  {
   "cell_type": "code",
   "execution_count": null,
   "metadata": {},
   "outputs": [],
   "source": [
    "# now make it more complex\n",
    "w = widgets.FloatSlider(\n",
    "    value=7.5,\n",
    "    min=0,\n",
    "    max=10.0,\n",
    "    step=0.1,\n",
    "    description='Test:',\n",
    "    disabled=False,\n",
    "    continuous_update=False,\n",
    "    orientation='vertical',\n",
    "    readout=True,\n",
    "    readout_format='.1f',\n",
    ")"
   ]
  },
  {
   "cell_type": "code",
   "execution_count": null,
   "metadata": {},
   "outputs": [],
   "source": [
    "w"
   ]
  },
  {
   "cell_type": "code",
   "execution_count": null,
   "metadata": {},
   "outputs": [],
   "source": [
    "w.value"
   ]
  },
  {
   "cell_type": "code",
   "execution_count": null,
   "metadata": {},
   "outputs": [],
   "source": [
    "# check box widgets\n",
    "\n",
    "w = widgets.Checkbox(\n",
    "    value=False,\n",
    "    description='Check me',\n",
    "    disabled=False,\n",
    "    indent=False\n",
    ")"
   ]
  },
  {
   "cell_type": "code",
   "execution_count": null,
   "metadata": {},
   "outputs": [],
   "source": [
    "w"
   ]
  },
  {
   "cell_type": "code",
   "execution_count": null,
   "metadata": {},
   "outputs": [],
   "source": [
    "w.value"
   ]
  },
  {
   "cell_type": "code",
   "execution_count": null,
   "metadata": {},
   "outputs": [],
   "source": [
    "# multiple selection\n",
    "w = widgets.SelectMultiple(\n",
    "    options=['Apples', 'Oranges', 'Pears','water mellon'],\n",
    "    value=['Oranges'],\n",
    "    #rows=10,\n",
    "    description='Fruits',\n",
    "    disabled=False\n",
    ")"
   ]
  },
  {
   "cell_type": "code",
   "execution_count": null,
   "metadata": {},
   "outputs": [],
   "source": [
    "w"
   ]
  },
  {
   "cell_type": "code",
   "execution_count": null,
   "metadata": {},
   "outputs": [],
   "source": [
    "w.value"
   ]
  },
  {
   "cell_type": "code",
   "execution_count": null,
   "metadata": {},
   "outputs": [],
   "source": [
    "# radio buttons\n",
    "\n",
    "w = widgets.RadioButtons(\n",
    "    options=['pepperoni', 'pineapple', 'anchovies'],\n",
    "#    value='pineapple', # Defaults to 'pineapple'\n",
    "#    layout={'width': 'max-content'}, # If the items' names are long\n",
    "    description='Pizza topping:',\n",
    "    disabled=False\n",
    ")"
   ]
  },
  {
   "cell_type": "code",
   "execution_count": null,
   "metadata": {},
   "outputs": [],
   "source": [
    "w"
   ]
  },
  {
   "cell_type": "code",
   "execution_count": null,
   "metadata": {},
   "outputs": [],
   "source": [
    "w.value"
   ]
  },
  {
   "cell_type": "code",
   "execution_count": null,
   "metadata": {},
   "outputs": [],
   "source": [
    "# now using the radio button for the previous GDP plot\n",
    "\n",
    "selector = widgets.RadioButtons(\n",
    "    options=['Asia', 'Europe', 'Africa', 'Americas', 'Oceania'],\n",
    "    description='Continent:',\n",
    "    disabled=False\n",
    ")"
   ]
  },
  {
   "cell_type": "code",
   "execution_count": null,
   "metadata": {},
   "outputs": [],
   "source": [
    "result = interact(continent_gdp, df=fixed(df), conti=selector)"
   ]
  },
  {
   "cell_type": "code",
   "execution_count": null,
   "metadata": {},
   "outputs": [],
   "source": []
  }
 ],
 "metadata": {
  "kernelspec": {
   "display_name": "Python 3 (ipykernel)",
   "language": "python",
   "name": "python3"
  },
  "language_info": {
   "codemirror_mode": {
    "name": "ipython",
    "version": 3
   },
   "file_extension": ".py",
   "mimetype": "text/x-python",
   "name": "python",
   "nbconvert_exporter": "python",
   "pygments_lexer": "ipython3",
   "version": "3.9.7"
  }
 },
 "nbformat": 4,
 "nbformat_minor": 4
}
